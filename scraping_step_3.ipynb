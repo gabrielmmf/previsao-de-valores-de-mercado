{
 "cells": [
  {
   "cell_type": "code",
   "execution_count": 61,
   "metadata": {},
   "outputs": [],
   "source": [
    "import soccerdata as sd\n",
    "from tqdm import tqdm"
   ]
  },
  {
   "cell_type": "code",
   "execution_count": 65,
   "metadata": {},
   "outputs": [],
   "source": [
    "stats_types = [\"standard\", \"shooting\", \"passing\", \"passing_types\", \"goal_shot_creation\", \"defense\", \"possession\", \"playing_time\", \"misc\"]"
   ]
  },
  {
   "cell_type": "code",
   "execution_count": 66,
   "metadata": {},
   "outputs": [
    {
     "data": {
      "text/html": [
       "<pre style=\"white-space:pre;overflow-x:auto;line-height:normal;font-family:Menlo,'DejaVu Sans Mono',consolas,'Courier New',monospace\"><span style=\"color: #7fbfbf; text-decoration-color: #7fbfbf\">[07/02/23 01:37:25] </span><span style=\"color: #000080; text-decoration-color: #000080\">INFO    </span> Saving cached data to <span style=\"color: #800080; text-decoration-color: #800080\">/home/gabrielmmf/soccerdata/data/</span><span style=\"color: #ff00ff; text-decoration-color: #ff00ff\">FBref</span>             <a href=\"file:///home/gabrielmmf/anaconda3/envs/env1/lib/python3.9/site-packages/soccerdata/_common.py\" target=\"_blank\"><span style=\"color: #7f7f7f; text-decoration-color: #7f7f7f\">_common.py</span></a><span style=\"color: #7f7f7f; text-decoration-color: #7f7f7f\">:</span><a href=\"file:///home/gabrielmmf/anaconda3/envs/env1/lib/python3.9/site-packages/soccerdata/_common.py#89\" target=\"_blank\"><span style=\"color: #7f7f7f; text-decoration-color: #7f7f7f\">89</span></a>\n",
       "</pre>\n"
      ],
      "text/plain": [
       "\u001b[2;36m[07/02/23 01:37:25]\u001b[0m\u001b[2;36m \u001b[0m\u001b[34mINFO    \u001b[0m Saving cached data to \u001b[35m/home/gabrielmmf/soccerdata/data/\u001b[0m\u001b[95mFBref\u001b[0m             \u001b]8;id=375062;file:///home/gabrielmmf/anaconda3/envs/env1/lib/python3.9/site-packages/soccerdata/_common.py\u001b\\\u001b[2m_common.py\u001b[0m\u001b]8;;\u001b\\\u001b[2m:\u001b[0m\u001b]8;id=538927;file:///home/gabrielmmf/anaconda3/envs/env1/lib/python3.9/site-packages/soccerdata/_common.py#89\u001b\\\u001b[2m89\u001b[0m\u001b]8;;\u001b\\\n"
      ]
     },
     "metadata": {},
     "output_type": "display_data"
    },
    {
     "data": {
      "text/html": [
       "<pre style=\"white-space:pre;overflow-x:auto;line-height:normal;font-family:Menlo,'DejaVu Sans Mono',consolas,'Courier New',monospace\"><span style=\"color: #7fbfbf; text-decoration-color: #7fbfbf\">                    </span><span style=\"color: #000080; text-decoration-color: #000080\">INFO    </span> Saving cached data to <span style=\"color: #800080; text-decoration-color: #800080\">/home/gabrielmmf/soccerdata/data/</span><span style=\"color: #ff00ff; text-decoration-color: #ff00ff\">FBref</span>             <a href=\"file:///home/gabrielmmf/anaconda3/envs/env1/lib/python3.9/site-packages/soccerdata/_common.py\" target=\"_blank\"><span style=\"color: #7f7f7f; text-decoration-color: #7f7f7f\">_common.py</span></a><span style=\"color: #7f7f7f; text-decoration-color: #7f7f7f\">:</span><a href=\"file:///home/gabrielmmf/anaconda3/envs/env1/lib/python3.9/site-packages/soccerdata/_common.py#89\" target=\"_blank\"><span style=\"color: #7f7f7f; text-decoration-color: #7f7f7f\">89</span></a>\n",
       "</pre>\n"
      ],
      "text/plain": [
       "\u001b[2;36m                   \u001b[0m\u001b[2;36m \u001b[0m\u001b[34mINFO    \u001b[0m Saving cached data to \u001b[35m/home/gabrielmmf/soccerdata/data/\u001b[0m\u001b[95mFBref\u001b[0m             \u001b]8;id=125151;file:///home/gabrielmmf/anaconda3/envs/env1/lib/python3.9/site-packages/soccerdata/_common.py\u001b\\\u001b[2m_common.py\u001b[0m\u001b]8;;\u001b\\\u001b[2m:\u001b[0m\u001b]8;id=201288;file:///home/gabrielmmf/anaconda3/envs/env1/lib/python3.9/site-packages/soccerdata/_common.py#89\u001b\\\u001b[2m89\u001b[0m\u001b]8;;\u001b\\\n"
      ]
     },
     "metadata": {},
     "output_type": "display_data"
    }
   ],
   "source": [
    "old_seasons = [\"05-06\", \"06-07\", \"07-08\", \"08-09\",\"09-10\", \"10-11\", \"11-12\", \"12-13\", \"13-14\", \"14-15\", \"15-16\", \"16-17\"]\n",
    "new_seasons = [\"17-18\", \"18-19\", \"19-20\",\"20-21\", \"21-22\", \"22-23\"]\n",
    "\n",
    "old_fbref = sd.FBref(leagues=\"Big 5 European Leagues Combined\", seasons=old_seasons)\n",
    "new_fbref = sd.FBref(leagues=\"Big 5 European Leagues Combined\", seasons=new_seasons)"
   ]
  },
  {
   "cell_type": "code",
   "execution_count": 69,
   "metadata": {},
   "outputs": [],
   "source": [
    "def reindex(df):\n",
    "    df = df.reset_index()\n",
    "    multiindex = df.columns\n",
    "    index = ['_'.join(level) if level[1] != '' else level[0]\n",
    "             for level in multiindex]\n",
    "\n",
    "    df = df.set_axis(index, axis=1)\n",
    "    year_mapping = {\n",
    "        \"0304\": \"2003\",\n",
    "        \"0405\": \"2004\",\n",
    "        \"0506\": \"2005\",\n",
    "        \"0607\": \"2006\",\n",
    "        \"0708\": \"2007\",\n",
    "        \"0809\": \"2008\",\n",
    "        \"0910\": \"2009\",\n",
    "        \"1011\": \"2010\",\n",
    "        \"1112\": \"2011\",\n",
    "        \"1213\": \"2012\",\n",
    "        \"1314\": \"2013\",\n",
    "        \"1415\": \"2014\",\n",
    "        \"1516\": \"2015\",\n",
    "        \"1617\": \"2016\",\n",
    "        \"1718\": \"2017\",\n",
    "        \"1819\": \"2018\",\n",
    "        \"1920\": \"2019\",\n",
    "        \"2021\": \"2020\",\n",
    "        \"2122\": \"2021\",\n",
    "        \"2223\": \"2022\"\n",
    "    }\n",
    "\n",
    "    next_year_mapping = {\n",
    "        \"2003\": \"2004\",\n",
    "        \"2004\": \"2005\",\n",
    "        \"2005\": \"2006\",\n",
    "        \"2006\": \"2007\",\n",
    "        \"2007\": \"2008\",\n",
    "        \"2008\": \"2009\",\n",
    "        \"2009\": \"2010\",\n",
    "        \"2010\": \"2011\",\n",
    "        \"2011\": \"2012\",\n",
    "        \"2012\": \"2013\",\n",
    "        \"2013\": \"2014\",\n",
    "        \"2014\": \"2015\",\n",
    "        \"2015\": \"2016\",\n",
    "        \"2016\": \"2017\",\n",
    "        \"2017\": \"2018\",\n",
    "        \"2018\": \"2019\",\n",
    "        \"2019\": \"2020\",\n",
    "        \"2020\": \"2021\",\n",
    "        \"2021\": \"2022\",\n",
    "        \"2022\": \"2023\"\n",
    "    }\n",
    "    df[\"season\"] = df[\"season\"].replace(year_mapping)\n",
    "    df[\"nextSeason\"] = df[\"season\"].replace(next_year_mapping)\n",
    "\n",
    "    df['season'] = df['season'].astype('int')\n",
    "    df['nextSeason'] = df['nextSeason'].astype('int')\n",
    "    return df\n"
   ]
  },
  {
   "cell_type": "code",
   "execution_count": 70,
   "metadata": {},
   "outputs": [
    {
     "name": "stderr",
     "output_type": "stream",
     "text": [
      "100%|██████████| 9/9 [05:57<00:00, 39.73s/it]\n"
     ]
    }
   ],
   "source": [
    "for type in tqdm(stats_types, total=len(stats_types)):\n",
    "    reindex(new_fbref.read_player_season_stats(stat_type=type)).to_csv('data/new_fbref/' + type + '.csv', index=False)\n",
    "    reindex(old_fbref.read_player_season_stats(stat_type=type)).to_csv('data/old_fbref/' + type + '.csv', index=False)"
   ]
  }
 ],
 "metadata": {
  "kernelspec": {
   "display_name": "env1",
   "language": "python",
   "name": "python3"
  },
  "language_info": {
   "codemirror_mode": {
    "name": "ipython",
    "version": 3
   },
   "file_extension": ".py",
   "mimetype": "text/x-python",
   "name": "python",
   "nbconvert_exporter": "python",
   "pygments_lexer": "ipython3",
   "version": "3.9.16"
  },
  "orig_nbformat": 4
 },
 "nbformat": 4,
 "nbformat_minor": 2
}
