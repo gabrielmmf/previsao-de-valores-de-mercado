{
 "cells": [
  {
   "cell_type": "code",
   "execution_count": 3,
   "metadata": {},
   "outputs": [],
   "source": [
    "import soccerdata as sd\n",
    "import pandas as pd\n",
    "import numpy as np"
   ]
  },
  {
   "cell_type": "code",
   "execution_count": 2,
   "metadata": {},
   "outputs": [
    {
     "data": {
      "text/html": [
       "<pre style=\"white-space:pre;overflow-x:auto;line-height:normal;font-family:Menlo,'DejaVu Sans Mono',consolas,'Courier New',monospace\"><span style=\"color: #7fbfbf; text-decoration-color: #7fbfbf\">[07/01/23 17:03:37] </span><span style=\"color: #000080; text-decoration-color: #000080\">INFO    </span> Saving cached data to <span style=\"color: #800080; text-decoration-color: #800080\">/home/gabrielmmf/soccerdata/data/</span><span style=\"color: #ff00ff; text-decoration-color: #ff00ff\">FBref</span>             <a href=\"file:///home/gabrielmmf/anaconda3/envs/env1/lib/python3.9/site-packages/soccerdata/_common.py\" target=\"_blank\"><span style=\"color: #7f7f7f; text-decoration-color: #7f7f7f\">_common.py</span></a><span style=\"color: #7f7f7f; text-decoration-color: #7f7f7f\">:</span><a href=\"file:///home/gabrielmmf/anaconda3/envs/env1/lib/python3.9/site-packages/soccerdata/_common.py#89\" target=\"_blank\"><span style=\"color: #7f7f7f; text-decoration-color: #7f7f7f\">89</span></a>\n",
       "</pre>\n"
      ],
      "text/plain": [
       "\u001b[2;36m[07/01/23 17:03:37]\u001b[0m\u001b[2;36m \u001b[0m\u001b[34mINFO    \u001b[0m Saving cached data to \u001b[35m/home/gabrielmmf/soccerdata/data/\u001b[0m\u001b[95mFBref\u001b[0m             \u001b]8;id=420874;file:///home/gabrielmmf/anaconda3/envs/env1/lib/python3.9/site-packages/soccerdata/_common.py\u001b\\\u001b[2m_common.py\u001b[0m\u001b]8;;\u001b\\\u001b[2m:\u001b[0m\u001b]8;id=704013;file:///home/gabrielmmf/anaconda3/envs/env1/lib/python3.9/site-packages/soccerdata/_common.py#89\u001b\\\u001b[2m89\u001b[0m\u001b]8;;\u001b\\\n"
      ]
     },
     "metadata": {},
     "output_type": "display_data"
    }
   ],
   "source": [
    "temporadas = [\"17-18\", \"18-19\", \"19-20\",\"20-21\", \"21-22\"]\n",
    "fbref = sd.FBref(leagues=\"Big 5 European Leagues Combined\", seasons=temporadas)\n",
    "\n",
    "jogadores_standard_stats = fbref.read_player_season_stats(stat_type=\"standard\")\n",
    "jogadores_shooting_stats = fbref.read_player_season_stats(stat_type=\"shooting\")\n",
    "jogadores_passing_stats = fbref.read_player_season_stats(stat_type=\"passing\")\n",
    "jogadores_passing_type_stats = fbref.read_player_season_stats(stat_type=\"passing_types\")\n",
    "jogadores_goal_shot_creation_stats = fbref.read_player_season_stats(stat_type=\"goal_shot_creation\")\n",
    "jogadores_defense_stats = fbref.read_player_season_stats(stat_type=\"defense\")\n",
    "jogadores_possession_stats = fbref.read_player_season_stats(stat_type=\"possession\")\n",
    "jogadores_playing_time_stats = fbref.read_player_season_stats(stat_type=\"playing_time\")\n",
    "jogadores_miscellanous_type_stats = fbref.read_player_season_stats(stat_type=\"misc\")\n"
   ]
  },
  {
   "cell_type": "code",
   "execution_count": 34,
   "metadata": {},
   "outputs": [],
   "source": [
    "def getFbrefFromTransfers(stats, transfers_players, name):\n",
    "    df = stats\n",
    "\n",
    "    df = df.reset_index()\n",
    "\n",
    "    multiindex = df.columns\n",
    "    index = ['_'.join(level) if level[1] != '' else level[0] for level in multiindex]\n",
    "\n",
    "    df.set_axis(index, axis=1, inplace=True)\n",
    "    df[\"season\"] = df[\"season\"].replace({\"1718\": \"2017\",\n",
    "                                     \"1819\": \"2018\",\n",
    "                                     \"1920\": \"2019\",\n",
    "                                     \"2021\": \"2020\",\n",
    "                                     \"2122\": \"2021\"\n",
    "                                     })\n",
    "\n",
    "    df[\"nextSeason\"] = df[\"season\"].replace({\"2017\": \"2018\",\n",
    "                                            \"2018\": \"2019\",\n",
    "                                            \"2019\": \"2020\",\n",
    "                                            \"2020\": \"2021\",\n",
    "                                            \"2021\": \"2022\"\n",
    "                                            })\n",
    "    \n",
    "    df['season'] = df['season'].astype('int')\n",
    "    df['nextSeason'] = df['nextSeason'].astype('int')\n",
    "\n",
    "    merged = pd.merge(transfers_players, df, left_on=['playerName', 'season'], right_on=['player', 'nextSeason'], how='left')\n",
    "    del merged['season_y']\n",
    "    merged = merged.rename(columns={'season_x': 'season'})\n",
    "    merged = merged.dropna(axis=0, how=\"all\", subset=['nextSeason'])\n",
    "\n",
    "    merged.to_csv('data/transfers_stats/'+ name, index=False)"
   ]
  },
  {
   "cell_type": "code",
   "execution_count": 17,
   "metadata": {},
   "outputs": [],
   "source": [
    "def getTransfersPlayers(league):\n",
    "    players = pd.read_csv('data/players/'+league+'_players.csv')\n",
    "    transfers = pd.read_csv('data/transfers/'+ league + '_transfers.csv')\n",
    "    transfers_players = pd.merge(transfers, players[['playerLink', 'currAge', 'height', 'foot']], on=\"playerLink\", how=\"left\")\n",
    "    transfers_players = transfers_players[transfers_players['season'] >= 2018]\n",
    "    return transfers_players"
   ]
  },
  {
   "cell_type": "code",
   "execution_count": 18,
   "metadata": {},
   "outputs": [],
   "source": [
    "pl_transfers_players = getTransfersPlayers('pl')\n",
    "ll_transfers_players = getTransfersPlayers('ll')\n",
    "sa_transfers_players = getTransfersPlayers('sa')\n",
    "bl_transfers_players = getTransfersPlayers('bl')\n",
    "l1_transfers_players = getTransfersPlayers('l1')"
   ]
  },
  {
   "cell_type": "code",
   "execution_count": 36,
   "metadata": {},
   "outputs": [
    {
     "name": "stderr",
     "output_type": "stream",
     "text": [
      "/tmp/ipykernel_312607/237810228.py:9: FutureWarning: DataFrame.set_axis 'inplace' keyword is deprecated and will be removed in a future version. Use `obj = obj.set_axis(..., copy=False)` instead\n",
      "  df.set_axis(index, axis=1, inplace=True)\n"
     ]
    }
   ],
   "source": [
    "getFbrefFromTransfers(jogadores_standard_stats, pl_transfers_players, 'pl_std_stats.csv')"
   ]
  },
  {
   "cell_type": "code",
   "execution_count": null,
   "metadata": {},
   "outputs": [],
   "source": [
    "getFbrefFromTransfers(jogadores_standard_stats, ll_transfers_players, 'll_std_stats.csv')"
   ]
  },
  {
   "cell_type": "code",
   "execution_count": null,
   "metadata": {},
   "outputs": [],
   "source": [
    "getFbrefFromTransfers(jogadores_standard_stats, bl_transfers_players, 'bl_std_stats.csv')"
   ]
  },
  {
   "cell_type": "code",
   "execution_count": null,
   "metadata": {},
   "outputs": [],
   "source": [
    "getFbrefFromTransfers(jogadores_standard_stats, sa_transfers_players, 'sa_std_stats.csv')"
   ]
  },
  {
   "cell_type": "code",
   "execution_count": null,
   "metadata": {},
   "outputs": [],
   "source": [
    "getFbrefFromTransfers(jogadores_standard_stats, l1_transfers_players, 'l1_std_stats.csv')"
   ]
  }
 ],
 "metadata": {
  "kernelspec": {
   "display_name": "env1",
   "language": "python",
   "name": "python3"
  },
  "language_info": {
   "codemirror_mode": {
    "name": "ipython",
    "version": 3
   },
   "file_extension": ".py",
   "mimetype": "text/x-python",
   "name": "python",
   "nbconvert_exporter": "python",
   "pygments_lexer": "ipython3",
   "version": "3.9.16"
  },
  "orig_nbformat": 4
 },
 "nbformat": 4,
 "nbformat_minor": 2
}
