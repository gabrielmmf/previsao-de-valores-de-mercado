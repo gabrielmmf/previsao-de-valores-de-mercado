{
 "cells": [
  {
   "cell_type": "code",
   "execution_count": 11,
   "metadata": {},
   "outputs": [
    {
     "name": "stdout",
     "output_type": "stream",
     "text": [
      "                               playerLink  currAge  height   foot  \\\n",
      "0         /joe-murphy/profil/spieler/3655     41.0    1.88    NaN   \n",
      "1  /cristiano-ronaldo/profil/spieler/8198     38.0    1.87  right   \n",
      "2        /gael-clichy/profil/spieler/7449     37.0    1.76   left   \n",
      "3      /scott-carson/profil/spieler/14555     37.0    1.88  right   \n",
      "4       /james-milner/profil/spieler/3333     37.0    1.75  right   \n",
      "\n",
      "          currClub playerPos playerCountry  playerMarketValue  \\\n",
      "0  Tranmere Rovers        GK       Ireland              50000   \n",
      "1      Al-Nassr FC        CF      Portugal           15000000   \n",
      "2      Servette FC        LB        France             100000   \n",
      "3  Manchester City        GK       England             200000   \n",
      "4     Liverpool FC        CM       England            1500000   \n",
      "\n",
      "          playerName  \n",
      "0         joe murphy  \n",
      "1  cristiano ronaldo  \n",
      "2        gaël clichy  \n",
      "3       scott carson  \n",
      "4       james milner  \n",
      "               league  season     team               playerName nation    pos  \\\n",
      "0  ENG-Premier League    2017  Arsenal             aaron ramsey    WAL     MF   \n",
      "1  ENG-Premier League    2017  Arsenal   ainsley maitland-niles    ENG  DF,MF   \n",
      "2  ENG-Premier League    2017  Arsenal               alex iwobi    NGA  MF,FW   \n",
      "3  ENG-Premier League    2017  Arsenal  alex oxlade-chamberlain    ENG     DF   \n",
      "4  ENG-Premier League    2017  Arsenal      alexandre lacazette    FRA     FW   \n",
      "\n",
      "    age    born  Playing Time_MP  Playing Time_Starts  ...  \\\n",
      "0  26.0  1990.0               24                   21  ...   \n",
      "1  19.0  1997.0               15                    8  ...   \n",
      "2  21.0  1996.0               26                   22  ...   \n",
      "3  23.0  1993.0                3                    3  ...   \n",
      "4  26.0  1991.0               32                   26  ...   \n",
      "\n",
      "   Per 90 Minutes_Ast  Per 90 Minutes_G+A  Per 90 Minutes_G-PK  \\\n",
      "0                0.39                0.73                 0.34   \n",
      "1                0.00                0.00                 0.00   \n",
      "2                0.25                0.39                 0.15   \n",
      "3                0.00                0.00                 0.00   \n",
      "4                0.16                0.74                 0.49   \n",
      "\n",
      "   Per 90 Minutes_G+A-PK  Per 90 Minutes_xG  Per 90 Minutes_xAG  \\\n",
      "0                   0.73               0.30                0.26   \n",
      "1                   0.00               0.02                0.08   \n",
      "2                   0.39               0.19                0.17   \n",
      "3                   0.00               0.09                0.19   \n",
      "4                   0.65               0.56                0.18   \n",
      "\n",
      "   Per 90 Minutes_xG+xAG  Per 90 Minutes_npxG  Per 90 Minutes_npxG+xAG  \\\n",
      "0                   0.56                 0.30                     0.56   \n",
      "1                   0.11                 0.02                     0.11   \n",
      "2                   0.36                 0.19                     0.36   \n",
      "3                   0.29                 0.09                     0.29   \n",
      "4                   0.74                 0.49                     0.67   \n",
      "\n",
      "   nextSeason  \n",
      "0        2018  \n",
      "1        2018  \n",
      "2        2018  \n",
      "3        2018  \n",
      "4        2018  \n",
      "\n",
      "[5 rows x 38 columns]\n"
     ]
    }
   ],
   "source": [
    "import pandas as pd\n",
    "import numpy as np\n",
    "import math\n",
    "import matplotlib.pyplot as plt\n",
    "\n",
    "df_players = pd.read_csv('./data/pl_players.csv')\n",
    "df_stats = pd.read_csv('./data/std_stats.csv')\n",
    "\n",
    "df_stats = df_stats.rename(columns={'player': 'playerName'})\n",
    "\n",
    "df_stats['playerName'] = df_stats['playerName'].str.lower()\n",
    "df_players['playerName'] = df_players['playerName'].str.lower()\n",
    "\n",
    "\n",
    "print(df_players.head())\n",
    "print(df_stats.head())"
   ]
  },
  {
   "cell_type": "code",
   "execution_count": 26,
   "metadata": {},
   "outputs": [
    {
     "name": "stdout",
     "output_type": "stream",
     "text": [
      "0\n"
     ]
    }
   ],
   "source": [
    "df_merged = pd.merge(df_players, df_stats, on='playerName', how='inner',indicator=True)\n",
    "elementos_esquerda_nao_presentes = df_merged[df_merged['_merge'] == 'left_only']\n",
    "\n",
    "print(elementos_esquerda_nao_presentes.shape[0])"
   ]
  },
  {
   "cell_type": "code",
   "execution_count": null,
   "metadata": {},
   "outputs": [],
   "source": []
  }
 ],
 "metadata": {
  "kernelspec": {
   "display_name": "Python 3",
   "language": "python",
   "name": "python3"
  },
  "language_info": {
   "codemirror_mode": {
    "name": "ipython",
    "version": 3
   },
   "file_extension": ".py",
   "mimetype": "text/x-python",
   "name": "python",
   "nbconvert_exporter": "python",
   "pygments_lexer": "ipython3",
   "version": "3.11.3"
  },
  "orig_nbformat": 4,
  "vscode": {
   "interpreter": {
    "hash": "e7370f93d1d0cde622a1f8e1c04877d8463912d04d973331ad4851f04de6915a"
   }
  }
 },
 "nbformat": 4,
 "nbformat_minor": 2
}
