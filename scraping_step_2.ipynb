{
 "cells": [
  {
   "attachments": {},
   "cell_type": "markdown",
   "metadata": {},
   "source": [
    "# Coleta de dados\n",
    "Nesta seção iremos coletar os dados por meio de web scraping e apis de outros sites"
   ]
  },
  {
   "cell_type": "code",
   "execution_count": 1,
   "metadata": {},
   "outputs": [],
   "source": [
    "import requests\n",
    "from bs4 import BeautifulSoup\n",
    "import pandas as pd\n",
    "import matplotlib.pyplot as plt\n",
    "import seaborn as sns\n",
    "import re\n",
    "from tqdm import tqdm\n",
    "\n",
    "headers = {'User-Agent': 'Mozilla/5.0 (X11; Linux x86_64) AppleWebKit/537.36 (KHTML, like Gecko) Chrome/47.0.2526.106 Safari/537.36'}\n",
    "prefix = 'https://www.transfermarkt.com'\n",
    "def getSoup(url):\n",
    "    res = requests.get(url, headers = headers)\n",
    "    return BeautifulSoup(res.content, 'html.parser')\n"
   ]
  },
  {
   "attachments": {},
   "cell_type": "markdown",
   "metadata": {},
   "source": [
    "### Função para realizar o scraping de uma página de jogador"
   ]
  },
  {
   "cell_type": "code",
   "execution_count": 2,
   "metadata": {},
   "outputs": [],
   "source": [
    "def getPlayerRow(url):\n",
    "    page = getSoup(prefix + url)\n",
    "    span_list = page.find_all('span')\n",
    "    # infoTable = page.find('div', {'class': 'info-table'})\n",
    "    # span_list = infoTable.find_all('span')\n",
    "\n",
    "    currAge = 'N/A'\n",
    "    height = 'N/A'\n",
    "    foot = 'N/A'\n",
    "    currClub = 'N/A'\n",
    "\n",
    "    for i, span in enumerate(span_list):\n",
    "        if span.text.strip() == 'Age:':\n",
    "            currAge = span_list[i+1].text.strip()\n",
    "        if span.text.strip() == 'Height:':\n",
    "            height = span_list[i + 1].text.replace('m', '').strip().replace(',', '.')\n",
    "        if span.text.strip() == 'Foot:':\n",
    "            foot = span_list[i+1].text.strip()\n",
    "        if span.text.strip() == 'Current club:':\n",
    "            currClub = span_list[i+1].text.strip()\n",
    "            \n",
    "    return ([url, currAge, height, foot, currClub])"
   ]
  },
  {
   "cell_type": "code",
   "execution_count": 3,
   "metadata": {},
   "outputs": [],
   "source": [
    "def getPlayersTable(playerLinks):\n",
    "    table = []\n",
    "    total_iterations = len(playerLinks)\n",
    "    for link in tqdm(playerLinks, total=total_iterations):\n",
    "        table.append(getPlayerRow(link))\n",
    "    df = pd.DataFrame(\n",
    "        table, columns=['playerLink', 'currAge', 'height', 'foot', 'currClub'])\n",
    "    df['currAge'] = pd.to_numeric(df['currAge'], errors='coerce').astype(float)\n",
    "    df['height'] = pd.to_numeric(df['height'], errors='coerce').astype(float)\n",
    "    return df"
   ]
  },
  {
   "cell_type": "code",
   "execution_count": 4,
   "metadata": {},
   "outputs": [],
   "source": [
    "pl_transfers = pd.read_csv('data/transfers/pl_transfers.csv')\n",
    "ll_transfers = pd.read_csv('data/transfers/ll_transfers.csv')\n",
    "bl_transfers = pd.read_csv('data/transfers/bl_transfers.csv')\n",
    "sa_transfers = pd.read_csv('data/transfers/sa_transfers.csv')\n",
    "l1_transfers = pd.read_csv('data/transfers/l1_transfers.csv')"
   ]
  },
  {
   "cell_type": "code",
   "execution_count": 6,
   "metadata": {},
   "outputs": [],
   "source": [
    "def getPlayersInfo(name, df):\n",
    "    player_links = df['playerLink'].unique()\n",
    "    players = getPlayersTable(player_links)\n",
    "    merged = pd.merge(players, df[['playerLink', 'playerName', 'playerPos' ,'playerCountry', 'playerMarketValue']], on='playerLink', how='left')\n",
    "    merged = merged.drop_duplicates(subset=['playerLink'])\n",
    "    players = merged\n",
    "    players.to_csv('data/players/' + name, index=False)"
   ]
  },
  {
   "cell_type": "code",
   "execution_count": 6,
   "metadata": {},
   "outputs": [],
   "source": [
    "getPlayersInfo(\"pl_players.csv\", pl_transfers)"
   ]
  },
  {
   "cell_type": "code",
   "execution_count": 7,
   "metadata": {},
   "outputs": [],
   "source": [
    "getPlayersInfo(\"ll_players.csv\", ll_transfers)"
   ]
  },
  {
   "cell_type": "code",
   "execution_count": null,
   "metadata": {},
   "outputs": [],
   "source": [
    "getPlayersInfo(\"bl_players.csv\", bl_transfers)"
   ]
  },
  {
   "cell_type": "code",
   "execution_count": null,
   "metadata": {},
   "outputs": [],
   "source": [
    "getPlayersInfo(\"sa_players.csv\", sa_transfers)"
   ]
  },
  {
   "cell_type": "code",
   "execution_count": 7,
   "metadata": {},
   "outputs": [
    {
     "name": "stderr",
     "output_type": "stream",
     "text": [
      "100%|██████████| 1706/1706 [47:21<00:00,  1.67s/it]  \n"
     ]
    }
   ],
   "source": [
    "getPlayersInfo(\"l1_players.csv\", l1_transfers)"
   ]
  }
 ],
 "metadata": {
  "kernelspec": {
   "display_name": "env1",
   "language": "python",
   "name": "python3"
  },
  "language_info": {
   "codemirror_mode": {
    "name": "ipython",
    "version": 3
   },
   "file_extension": ".py",
   "mimetype": "text/x-python",
   "name": "python",
   "nbconvert_exporter": "python",
   "pygments_lexer": "ipython3",
   "version": "3.9.16"
  },
  "orig_nbformat": 4
 },
 "nbformat": 4,
 "nbformat_minor": 2
}
