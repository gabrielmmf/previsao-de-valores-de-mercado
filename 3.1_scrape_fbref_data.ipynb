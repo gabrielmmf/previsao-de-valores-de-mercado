{
 "cells": [
  {
   "attachments": {},
   "cell_type": "markdown",
   "metadata": {},
   "source": [
    "# Scraping de stats do fbref para todos os jogadores de todas as ligas\n",
    "Nesta seção serão obtidos os stats das top 5 ligas disponíveis no fbref.\n",
    "\n",
    "Como o fbref possui mais features a partir de 2017, foram criadas 2 pastas com os stats fbref:\n",
    "- 'data/new_fbref': contém stats a partir da temporada 2017, com informações extras, como xG\n",
    "- 'data/old_fbref': contém stats entre 2005 e 2016, com poucas informações e muitas infos faltantes, não prentendemos utilizar\n",
    "\n",
    "Os dataframes salvos em .csv possuem indexação de 1 nível, em vez do padrão, que seria multiindex\n",
    "\n",
    "Para cada tipo de stats, é criado um novo arquivo na pasta 'new_fbref' ou 'old_fbref'.\n",
    "    Ex: standard stats a partir de 2017: 'data/new_fbref/standard.csv'\n",
    "\n",
    "Têm os tipos abaixo:"
   ]
  },
  {
   "cell_type": "code",
   "execution_count": 1,
   "metadata": {},
   "outputs": [
    {
     "data": {
      "text/html": [
       "<pre style=\"white-space:pre;overflow-x:auto;line-height:normal;font-family:Menlo,'DejaVu Sans Mono',consolas,'Courier New',monospace\"><span style=\"color: #7fbfbf; text-decoration-color: #7fbfbf\">[07/04/23 19:50:21] </span><span style=\"color: #000080; text-decoration-color: #000080\">INFO    </span> No custom team name replacements found. You can configure these in       <a href=\"file:///home/gabrielmmf/anaconda3/envs/env1/lib/python3.9/site-packages/soccerdata/_config.py\" target=\"_blank\"><span style=\"color: #7f7f7f; text-decoration-color: #7f7f7f\">_config.py</span></a><span style=\"color: #7f7f7f; text-decoration-color: #7f7f7f\">:</span><a href=\"file:///home/gabrielmmf/anaconda3/envs/env1/lib/python3.9/site-packages/soccerdata/_config.py#85\" target=\"_blank\"><span style=\"color: #7f7f7f; text-decoration-color: #7f7f7f\">85</span></a>\n",
       "<span style=\"color: #7fbfbf; text-decoration-color: #7fbfbf\">                    </span>         <span style=\"color: #800080; text-decoration-color: #800080\">/home/gabrielmmf/soccerdata/config/</span><span style=\"color: #ff00ff; text-decoration-color: #ff00ff\">teamname_replacements.json.</span>           <span style=\"color: #7f7f7f; text-decoration-color: #7f7f7f\">             </span>\n",
       "</pre>\n"
      ],
      "text/plain": [
       "\u001b[2;36m[07/04/23 19:50:21]\u001b[0m\u001b[2;36m \u001b[0m\u001b[34mINFO    \u001b[0m No custom team name replacements found. You can configure these in       \u001b]8;id=538539;file:///home/gabrielmmf/anaconda3/envs/env1/lib/python3.9/site-packages/soccerdata/_config.py\u001b\\\u001b[2m_config.py\u001b[0m\u001b]8;;\u001b\\\u001b[2m:\u001b[0m\u001b]8;id=545238;file:///home/gabrielmmf/anaconda3/envs/env1/lib/python3.9/site-packages/soccerdata/_config.py#85\u001b\\\u001b[2m85\u001b[0m\u001b]8;;\u001b\\\n",
       "\u001b[2;36m                    \u001b[0m         \u001b[35m/home/gabrielmmf/soccerdata/config/\u001b[0m\u001b[95mteamname_replacements.json.\u001b[0m           \u001b[2m             \u001b[0m\n"
      ]
     },
     "metadata": {},
     "output_type": "display_data"
    },
    {
     "data": {
      "text/html": [
       "<pre style=\"white-space:pre;overflow-x:auto;line-height:normal;font-family:Menlo,'DejaVu Sans Mono',consolas,'Courier New',monospace\"><span style=\"color: #7fbfbf; text-decoration-color: #7fbfbf\">                    </span><span style=\"color: #000080; text-decoration-color: #000080\">INFO    </span> No custom league dict found. You can configure additional leagues in    <a href=\"file:///home/gabrielmmf/anaconda3/envs/env1/lib/python3.9/site-packages/soccerdata/_config.py\" target=\"_blank\"><span style=\"color: #7f7f7f; text-decoration-color: #7f7f7f\">_config.py</span></a><span style=\"color: #7f7f7f; text-decoration-color: #7f7f7f\">:</span><a href=\"file:///home/gabrielmmf/anaconda3/envs/env1/lib/python3.9/site-packages/soccerdata/_config.py#159\" target=\"_blank\"><span style=\"color: #7f7f7f; text-decoration-color: #7f7f7f\">159</span></a>\n",
       "<span style=\"color: #7fbfbf; text-decoration-color: #7fbfbf\">                    </span>         <span style=\"color: #800080; text-decoration-color: #800080\">/home/gabrielmmf/soccerdata/config/</span><span style=\"color: #ff00ff; text-decoration-color: #ff00ff\">league_dict.json.</span>                    <span style=\"color: #7f7f7f; text-decoration-color: #7f7f7f\">              </span>\n",
       "</pre>\n"
      ],
      "text/plain": [
       "\u001b[2;36m                   \u001b[0m\u001b[2;36m \u001b[0m\u001b[34mINFO    \u001b[0m No custom league dict found. You can configure additional leagues in    \u001b]8;id=590882;file:///home/gabrielmmf/anaconda3/envs/env1/lib/python3.9/site-packages/soccerdata/_config.py\u001b\\\u001b[2m_config.py\u001b[0m\u001b]8;;\u001b\\\u001b[2m:\u001b[0m\u001b]8;id=16931;file:///home/gabrielmmf/anaconda3/envs/env1/lib/python3.9/site-packages/soccerdata/_config.py#159\u001b\\\u001b[2m159\u001b[0m\u001b]8;;\u001b\\\n",
       "\u001b[2;36m                    \u001b[0m         \u001b[35m/home/gabrielmmf/soccerdata/config/\u001b[0m\u001b[95mleague_dict.json.\u001b[0m                    \u001b[2m              \u001b[0m\n"
      ]
     },
     "metadata": {},
     "output_type": "display_data"
    }
   ],
   "source": [
    "import soccerdata as sd\n",
    "from tqdm import tqdm"
   ]
  },
  {
   "cell_type": "code",
   "execution_count": 11,
   "metadata": {},
   "outputs": [],
   "source": [
    "stats_types = [\"standard\" ,\"keeper\", \"keeper_adv\", \"shooting\", \"passing\", \"passing_types\", \"goal_shot_creation\", \"defense\", \"possession\", \"playing_time\", \"misc\"]"
   ]
  },
  {
   "cell_type": "code",
   "execution_count": 3,
   "metadata": {},
   "outputs": [
    {
     "data": {
      "text/html": [
       "<pre style=\"white-space:pre;overflow-x:auto;line-height:normal;font-family:Menlo,'DejaVu Sans Mono',consolas,'Courier New',monospace\"><span style=\"color: #7fbfbf; text-decoration-color: #7fbfbf\">[07/04/23 19:50:53] </span><span style=\"color: #000080; text-decoration-color: #000080\">INFO    </span> Saving cached data to <span style=\"color: #800080; text-decoration-color: #800080\">/home/gabrielmmf/soccerdata/data/</span><span style=\"color: #ff00ff; text-decoration-color: #ff00ff\">FBref</span>             <a href=\"file:///home/gabrielmmf/anaconda3/envs/env1/lib/python3.9/site-packages/soccerdata/_common.py\" target=\"_blank\"><span style=\"color: #7f7f7f; text-decoration-color: #7f7f7f\">_common.py</span></a><span style=\"color: #7f7f7f; text-decoration-color: #7f7f7f\">:</span><a href=\"file:///home/gabrielmmf/anaconda3/envs/env1/lib/python3.9/site-packages/soccerdata/_common.py#89\" target=\"_blank\"><span style=\"color: #7f7f7f; text-decoration-color: #7f7f7f\">89</span></a>\n",
       "</pre>\n"
      ],
      "text/plain": [
       "\u001b[2;36m[07/04/23 19:50:53]\u001b[0m\u001b[2;36m \u001b[0m\u001b[34mINFO    \u001b[0m Saving cached data to \u001b[35m/home/gabrielmmf/soccerdata/data/\u001b[0m\u001b[95mFBref\u001b[0m             \u001b]8;id=404338;file:///home/gabrielmmf/anaconda3/envs/env1/lib/python3.9/site-packages/soccerdata/_common.py\u001b\\\u001b[2m_common.py\u001b[0m\u001b]8;;\u001b\\\u001b[2m:\u001b[0m\u001b]8;id=518201;file:///home/gabrielmmf/anaconda3/envs/env1/lib/python3.9/site-packages/soccerdata/_common.py#89\u001b\\\u001b[2m89\u001b[0m\u001b]8;;\u001b\\\n"
      ]
     },
     "metadata": {},
     "output_type": "display_data"
    },
    {
     "data": {
      "text/html": [
       "<pre style=\"white-space:pre;overflow-x:auto;line-height:normal;font-family:Menlo,'DejaVu Sans Mono',consolas,'Courier New',monospace\"><span style=\"color: #7fbfbf; text-decoration-color: #7fbfbf\">                    </span><span style=\"color: #000080; text-decoration-color: #000080\">INFO    </span> Saving cached data to <span style=\"color: #800080; text-decoration-color: #800080\">/home/gabrielmmf/soccerdata/data/</span><span style=\"color: #ff00ff; text-decoration-color: #ff00ff\">FBref</span>             <a href=\"file:///home/gabrielmmf/anaconda3/envs/env1/lib/python3.9/site-packages/soccerdata/_common.py\" target=\"_blank\"><span style=\"color: #7f7f7f; text-decoration-color: #7f7f7f\">_common.py</span></a><span style=\"color: #7f7f7f; text-decoration-color: #7f7f7f\">:</span><a href=\"file:///home/gabrielmmf/anaconda3/envs/env1/lib/python3.9/site-packages/soccerdata/_common.py#89\" target=\"_blank\"><span style=\"color: #7f7f7f; text-decoration-color: #7f7f7f\">89</span></a>\n",
       "</pre>\n"
      ],
      "text/plain": [
       "\u001b[2;36m                   \u001b[0m\u001b[2;36m \u001b[0m\u001b[34mINFO    \u001b[0m Saving cached data to \u001b[35m/home/gabrielmmf/soccerdata/data/\u001b[0m\u001b[95mFBref\u001b[0m             \u001b]8;id=623202;file:///home/gabrielmmf/anaconda3/envs/env1/lib/python3.9/site-packages/soccerdata/_common.py\u001b\\\u001b[2m_common.py\u001b[0m\u001b]8;;\u001b\\\u001b[2m:\u001b[0m\u001b]8;id=184886;file:///home/gabrielmmf/anaconda3/envs/env1/lib/python3.9/site-packages/soccerdata/_common.py#89\u001b\\\u001b[2m89\u001b[0m\u001b]8;;\u001b\\\n"
      ]
     },
     "metadata": {},
     "output_type": "display_data"
    }
   ],
   "source": [
    "old_seasons = [\"05-06\", \"06-07\", \"07-08\", \"08-09\",\"09-10\", \"10-11\", \"11-12\", \"12-13\", \"13-14\", \"14-15\", \"15-16\", \"16-17\"]\n",
    "new_seasons = [\"17-18\", \"18-19\", \"19-20\",\"20-21\", \"21-22\", \"22-23\"]\n",
    "\n",
    "old_fbref = sd.FBref(leagues=\"Big 5 European Leagues Combined\", seasons=old_seasons)\n",
    "new_fbref = sd.FBref(leagues=\"Big 5 European Leagues Combined\", seasons=new_seasons)"
   ]
  },
  {
   "cell_type": "code",
   "execution_count": 9,
   "metadata": {},
   "outputs": [],
   "source": [
    "def reindex(df):\n",
    "    df = df.reset_index()\n",
    "    multiindex = df.columns\n",
    "    index = ['_'.join(level) if level[1] != '' else level[0]\n",
    "             for level in multiindex]\n",
    "\n",
    "    df = df.set_axis(index, axis=1)\n",
    "    year_mapping = {\n",
    "        \"0304\": \"2003\",\n",
    "        \"0405\": \"2004\",\n",
    "        \"0506\": \"2005\",\n",
    "        \"0607\": \"2006\",\n",
    "        \"0708\": \"2007\",\n",
    "        \"0809\": \"2008\",\n",
    "        \"0910\": \"2009\",\n",
    "        \"1011\": \"2010\",\n",
    "        \"1112\": \"2011\",\n",
    "        \"1213\": \"2012\",\n",
    "        \"1314\": \"2013\",\n",
    "        \"1415\": \"2014\",\n",
    "        \"1516\": \"2015\",\n",
    "        \"1617\": \"2016\",\n",
    "        \"1718\": \"2017\",\n",
    "        \"1819\": \"2018\",\n",
    "        \"1920\": \"2019\",\n",
    "        \"2021\": \"2020\",\n",
    "        \"2122\": \"2021\",\n",
    "        \"2223\": \"2022\"\n",
    "    }\n",
    "\n",
    "    df[\"season\"] = df[\"season\"].replace(year_mapping)\n",
    "    df['season'] = df['season'].astype('int')\n",
    "    return df\n"
   ]
  }
 ],
 "metadata": {
  "kernelspec": {
   "display_name": "env1",
   "language": "python",
   "name": "python3"
  },
  "language_info": {
   "codemirror_mode": {
    "name": "ipython",
    "version": 3
   },
   "file_extension": ".py",
   "mimetype": "text/x-python",
   "name": "python",
   "nbconvert_exporter": "python",
   "pygments_lexer": "ipython3",
   "version": "3.9.16"
  },
  "orig_nbformat": 4
 },
 "nbformat": 4,
 "nbformat_minor": 2
}
