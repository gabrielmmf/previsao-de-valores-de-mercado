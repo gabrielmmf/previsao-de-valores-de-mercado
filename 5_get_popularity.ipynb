{
 "cells": [
  {
   "attachments": {},
   "cell_type": "markdown",
   "metadata": {},
   "source": [
    "# Obtenção da popularidade\n",
    "\n",
    "Nesta parte, deve ser feita uma função que recebe um dataframe com as colunas 'playerName' e 'season', e adiciona uma coluna 'popularity' ou algun nome melhor, que mostra a popularidade de um jogador no período daquela season\n",
    "\n",
    "Usar a biblioteca pytrends:\n",
    "\n",
    "https://pypi.org/project/pytrends/\n",
    "\n",
    "https://konstantinstadler.site/posts/plotting-google-trends-search-terms-in-python/"
   ]
  },
  {
   "cell_type": "code",
   "execution_count": 22,
   "metadata": {},
   "outputs": [],
   "source": [
    "import pandas as pd\n",
    "from pytrends.request import TrendReq\n",
    "import time\n",
    "from tqdm import tqdm\n",
    "import os\n",
    "import matplotlib.pyplot as plt"
   ]
  },
  {
   "cell_type": "code",
   "execution_count": 2,
   "metadata": {},
   "outputs": [],
   "source": [
    "pytrends = TrendReq(tz=360)\n",
    "\n",
    "def getKeywordPop(kw, start_date, end_date):\n",
    "\n",
    "    palavras_chave = ['einstein' , kw]\n",
    "\n",
    "    pytrends.build_payload(palavras_chave, timeframe=f'{start_date} {end_date}')\n",
    "\n",
    "    dados_tendencias = pytrends.interest_over_time()\n",
    "\n",
    "    result = dados_tendencias.sum().sort_values(ascending=False)\n",
    "\n",
    "    return result[kw] / result['einstein']"
   ]
  },
  {
   "cell_type": "code",
   "execution_count": 35,
   "metadata": {},
   "outputs": [
    {
     "data": {
      "text/html": [
       "<div>\n",
       "<style scoped>\n",
       "    .dataframe tbody tr th:only-of-type {\n",
       "        vertical-align: middle;\n",
       "    }\n",
       "\n",
       "    .dataframe tbody tr th {\n",
       "        vertical-align: top;\n",
       "    }\n",
       "\n",
       "    .dataframe thead th {\n",
       "        text-align: right;\n",
       "    }\n",
       "</style>\n",
       "<table border=\"1\" class=\"dataframe\">\n",
       "  <thead>\n",
       "    <tr style=\"text-align: right;\">\n",
       "      <th></th>\n",
       "      <th>playerName</th>\n",
       "      <th>season</th>\n",
       "      <th>startDate</th>\n",
       "      <th>endDate</th>\n",
       "    </tr>\n",
       "  </thead>\n",
       "  <tbody>\n",
       "    <tr>\n",
       "      <th>0</th>\n",
       "      <td>Ethan Ampadu</td>\n",
       "      <td>2017</td>\n",
       "      <td>2017-08-05</td>\n",
       "      <td>2018-05-28</td>\n",
       "    </tr>\n",
       "    <tr>\n",
       "      <th>1</th>\n",
       "      <td>Davinson Sánchez</td>\n",
       "      <td>2017</td>\n",
       "      <td>2017-08-05</td>\n",
       "      <td>2018-05-28</td>\n",
       "    </tr>\n",
       "    <tr>\n",
       "      <th>2</th>\n",
       "      <td>Kyle Walker</td>\n",
       "      <td>2017</td>\n",
       "      <td>2017-08-05</td>\n",
       "      <td>2018-05-28</td>\n",
       "    </tr>\n",
       "    <tr>\n",
       "      <th>3</th>\n",
       "      <td>Ederson</td>\n",
       "      <td>2017</td>\n",
       "      <td>2017-08-05</td>\n",
       "      <td>2018-05-28</td>\n",
       "    </tr>\n",
       "    <tr>\n",
       "      <th>4</th>\n",
       "      <td>Douglas Luiz</td>\n",
       "      <td>2017</td>\n",
       "      <td>2017-08-05</td>\n",
       "      <td>2018-05-28</td>\n",
       "    </tr>\n",
       "    <tr>\n",
       "      <th>...</th>\n",
       "      <td>...</td>\n",
       "      <td>...</td>\n",
       "      <td>...</td>\n",
       "      <td>...</td>\n",
       "    </tr>\n",
       "    <tr>\n",
       "      <th>2669</th>\n",
       "      <td>Oliver Zandén</td>\n",
       "      <td>2022</td>\n",
       "      <td>2022-08-05</td>\n",
       "      <td>2023-05-28</td>\n",
       "    </tr>\n",
       "    <tr>\n",
       "      <th>2670</th>\n",
       "      <td>Bafodé Diakité</td>\n",
       "      <td>2022</td>\n",
       "      <td>2022-08-05</td>\n",
       "      <td>2023-05-28</td>\n",
       "    </tr>\n",
       "    <tr>\n",
       "      <th>2671</th>\n",
       "      <td>Fernand Mayembo</td>\n",
       "      <td>2022</td>\n",
       "      <td>2022-08-05</td>\n",
       "      <td>2023-05-28</td>\n",
       "    </tr>\n",
       "    <tr>\n",
       "      <th>2672</th>\n",
       "      <td>Rayan Raveloson</td>\n",
       "      <td>2022</td>\n",
       "      <td>2022-08-05</td>\n",
       "      <td>2023-05-28</td>\n",
       "    </tr>\n",
       "    <tr>\n",
       "      <th>2673</th>\n",
       "      <td>Gaëtan Charbonnier</td>\n",
       "      <td>2022</td>\n",
       "      <td>2022-08-05</td>\n",
       "      <td>2023-05-28</td>\n",
       "    </tr>\n",
       "  </tbody>\n",
       "</table>\n",
       "<p>2674 rows × 4 columns</p>\n",
       "</div>"
      ],
      "text/plain": [
       "              playerName  season   startDate     endDate\n",
       "0           Ethan Ampadu    2017  2017-08-05  2018-05-28\n",
       "1       Davinson Sánchez    2017  2017-08-05  2018-05-28\n",
       "2            Kyle Walker    2017  2017-08-05  2018-05-28\n",
       "3                Ederson    2017  2017-08-05  2018-05-28\n",
       "4           Douglas Luiz    2017  2017-08-05  2018-05-28\n",
       "...                  ...     ...         ...         ...\n",
       "2669       Oliver Zandén    2022  2022-08-05  2023-05-28\n",
       "2670      Bafodé Diakité    2022  2022-08-05  2023-05-28\n",
       "2671     Fernand Mayembo    2022  2022-08-05  2023-05-28\n",
       "2672     Rayan Raveloson    2022  2022-08-05  2023-05-28\n",
       "2673  Gaëtan Charbonnier    2022  2022-08-05  2023-05-28\n",
       "\n",
       "[2674 rows x 4 columns]"
      ]
     },
     "execution_count": 35,
     "metadata": {},
     "output_type": "execute_result"
    }
   ],
   "source": [
    "df = pd.read_csv('data/transfers_stats/new/all/standard.csv')#[['playerName', 'team', 'season']].drop_duplicates()\n",
    "df['startDate'] = df['season'].astype(str) + '-08-05'\n",
    "df['endDate'] = (df['season']+1).astype(str) + '-05-28'\n",
    "df = df[['playerName', 'season','startDate', 'endDate']]\n",
    "df"
   ]
  },
  {
   "cell_type": "code",
   "execution_count": 15,
   "metadata": {},
   "outputs": [],
   "source": [
    "df = df.drop(df.index[:252+791+475+232])"
   ]
  },
  {
   "cell_type": "code",
   "execution_count": 19,
   "metadata": {},
   "outputs": [
    {
     "data": {
      "text/html": [
       "<div>\n",
       "<style scoped>\n",
       "    .dataframe tbody tr th:only-of-type {\n",
       "        vertical-align: middle;\n",
       "    }\n",
       "\n",
       "    .dataframe tbody tr th {\n",
       "        vertical-align: top;\n",
       "    }\n",
       "\n",
       "    .dataframe thead th {\n",
       "        text-align: right;\n",
       "    }\n",
       "</style>\n",
       "<table border=\"1\" class=\"dataframe\">\n",
       "  <thead>\n",
       "    <tr style=\"text-align: right;\">\n",
       "      <th></th>\n",
       "      <th>search</th>\n",
       "      <th>season</th>\n",
       "      <th>startDate</th>\n",
       "      <th>endDate</th>\n",
       "    </tr>\n",
       "  </thead>\n",
       "  <tbody>\n",
       "    <tr>\n",
       "      <th>1750</th>\n",
       "      <td>Ricardo Rodríguez</td>\n",
       "      <td>2020</td>\n",
       "      <td>2020-08-05</td>\n",
       "      <td>2021-05-28</td>\n",
       "    </tr>\n",
       "    <tr>\n",
       "      <th>1751</th>\n",
       "      <td>Álex Berenguer</td>\n",
       "      <td>2020</td>\n",
       "      <td>2020-08-05</td>\n",
       "      <td>2021-05-28</td>\n",
       "    </tr>\n",
       "    <tr>\n",
       "      <th>1752</th>\n",
       "      <td>Álex Berenguer</td>\n",
       "      <td>2020</td>\n",
       "      <td>2020-08-05</td>\n",
       "      <td>2021-05-28</td>\n",
       "    </tr>\n",
       "    <tr>\n",
       "      <th>1753</th>\n",
       "      <td>Kevin Bonifazi</td>\n",
       "      <td>2020</td>\n",
       "      <td>2020-08-05</td>\n",
       "      <td>2021-05-28</td>\n",
       "    </tr>\n",
       "    <tr>\n",
       "      <th>1754</th>\n",
       "      <td>Gerard Deulofeu</td>\n",
       "      <td>2020</td>\n",
       "      <td>2020-08-05</td>\n",
       "      <td>2021-05-28</td>\n",
       "    </tr>\n",
       "    <tr>\n",
       "      <th>...</th>\n",
       "      <td>...</td>\n",
       "      <td>...</td>\n",
       "      <td>...</td>\n",
       "      <td>...</td>\n",
       "    </tr>\n",
       "    <tr>\n",
       "      <th>2669</th>\n",
       "      <td>Oliver Zandén</td>\n",
       "      <td>2022</td>\n",
       "      <td>2022-08-05</td>\n",
       "      <td>2023-05-28</td>\n",
       "    </tr>\n",
       "    <tr>\n",
       "      <th>2670</th>\n",
       "      <td>Bafodé Diakité</td>\n",
       "      <td>2022</td>\n",
       "      <td>2022-08-05</td>\n",
       "      <td>2023-05-28</td>\n",
       "    </tr>\n",
       "    <tr>\n",
       "      <th>2671</th>\n",
       "      <td>Fernand Mayembo</td>\n",
       "      <td>2022</td>\n",
       "      <td>2022-08-05</td>\n",
       "      <td>2023-05-28</td>\n",
       "    </tr>\n",
       "    <tr>\n",
       "      <th>2672</th>\n",
       "      <td>Rayan Raveloson</td>\n",
       "      <td>2022</td>\n",
       "      <td>2022-08-05</td>\n",
       "      <td>2023-05-28</td>\n",
       "    </tr>\n",
       "    <tr>\n",
       "      <th>2673</th>\n",
       "      <td>Gaëtan Charbonnier</td>\n",
       "      <td>2022</td>\n",
       "      <td>2022-08-05</td>\n",
       "      <td>2023-05-28</td>\n",
       "    </tr>\n",
       "  </tbody>\n",
       "</table>\n",
       "<p>924 rows × 4 columns</p>\n",
       "</div>"
      ],
      "text/plain": [
       "                  search  season   startDate     endDate\n",
       "1750   Ricardo Rodríguez    2020  2020-08-05  2021-05-28\n",
       "1751      Álex Berenguer    2020  2020-08-05  2021-05-28\n",
       "1752      Álex Berenguer    2020  2020-08-05  2021-05-28\n",
       "1753      Kevin Bonifazi    2020  2020-08-05  2021-05-28\n",
       "1754     Gerard Deulofeu    2020  2020-08-05  2021-05-28\n",
       "...                  ...     ...         ...         ...\n",
       "2669       Oliver Zandén    2022  2022-08-05  2023-05-28\n",
       "2670      Bafodé Diakité    2022  2022-08-05  2023-05-28\n",
       "2671     Fernand Mayembo    2022  2022-08-05  2023-05-28\n",
       "2672     Rayan Raveloson    2022  2022-08-05  2023-05-28\n",
       "2673  Gaëtan Charbonnier    2022  2022-08-05  2023-05-28\n",
       "\n",
       "[924 rows x 4 columns]"
      ]
     },
     "execution_count": 19,
     "metadata": {},
     "output_type": "execute_result"
    }
   ],
   "source": [
    "df"
   ]
  },
  {
   "cell_type": "code",
   "execution_count": 21,
   "metadata": {},
   "outputs": [
    {
     "name": "stderr",
     "output_type": "stream",
     "text": [
      " 28%|██▊       | 52/185 [02:26<06:27,  2.92s/it]"
     ]
    },
    {
     "name": "stdout",
     "output_type": "stream",
     "text": [
      "Erro: The request failed: Google returned a response with code 429\n",
      "Pausing for 5 seconds and retrying...\n",
      "\u001b[H\u001b[2J"
     ]
    },
    {
     "name": "stderr",
     "output_type": "stream",
     "text": [
      " 29%|██▉       | 54/185 [02:38<09:03,  4.15s/it]"
     ]
    },
    {
     "name": "stdout",
     "output_type": "stream",
     "text": [
      "Erro: The request failed: Google returned a response with code 429\n",
      "Pausing for 5 seconds and retrying...\n",
      "\u001b[H\u001b[2JErro: The request failed: Google returned a response with code 429\n",
      "Pausing for 5 seconds and retrying...\n",
      "\u001b[H\u001b[2JErro: The request failed: Google returned a response with code 429\n",
      "Pausing for 5 seconds and retrying...\n",
      "\u001b[H\u001b[2JErro: The request failed: Google returned a response with code 429\n",
      "Pausing for 5 seconds and retrying...\n",
      "\u001b[H\u001b[2J"
     ]
    },
    {
     "name": "stderr",
     "output_type": "stream",
     "text": [
      " 30%|███       | 56/185 [03:12<20:08,  9.37s/it]"
     ]
    },
    {
     "name": "stdout",
     "output_type": "stream",
     "text": [
      "Erro: The request failed: Google returned a response with code 429\n",
      "Pausing for 5 seconds and retrying...\n",
      "\u001b[H\u001b[2JErro: The request failed: Google returned a response with code 429\n",
      "Pausing for 5 seconds and retrying...\n",
      "\u001b[H\u001b[2J"
     ]
    },
    {
     "name": "stderr",
     "output_type": "stream",
     "text": [
      " 31%|███▏      | 58/185 [03:30<18:37,  8.80s/it]"
     ]
    },
    {
     "name": "stdout",
     "output_type": "stream",
     "text": [
      "Erro: The request failed: Google returned a response with code 429\n",
      "Pausing for 5 seconds and retrying...\n",
      "\u001b[H\u001b[2J"
     ]
    },
    {
     "name": "stderr",
     "output_type": "stream",
     "text": [
      " 32%|███▏      | 59/185 [03:40<19:14,  9.16s/it]"
     ]
    },
    {
     "name": "stdout",
     "output_type": "stream",
     "text": [
      "Erro: The request failed: Google returned a response with code 429\n",
      "Pausing for 5 seconds and retrying...\n",
      "\u001b[H\u001b[2JErro: The request failed: Google returned a response with code 429\n",
      "Pausing for 5 seconds and retrying...\n",
      "\u001b[H\u001b[2JErro: The request failed: Google returned a response with code 429\n",
      "Pausing for 5 seconds and retrying...\n",
      "\u001b[H\u001b[2J"
     ]
    },
    {
     "name": "stderr",
     "output_type": "stream",
     "text": [
      " 32%|███▏      | 60/185 [04:03<27:35, 13.24s/it]"
     ]
    },
    {
     "name": "stdout",
     "output_type": "stream",
     "text": [
      "Erro: The request failed: Google returned a response with code 429\n",
      "Pausing for 5 seconds and retrying...\n",
      "\u001b[H\u001b[2JErro: The request failed: Google returned a response with code 429\n",
      "Pausing for 5 seconds and retrying...\n",
      "\u001b[H\u001b[2JErro: The request failed: Google returned a response with code 429\n",
      "Pausing for 5 seconds and retrying...\n",
      "\u001b[H\u001b[2J"
     ]
    },
    {
     "name": "stderr",
     "output_type": "stream",
     "text": [
      " 34%|███▎      | 62/185 [04:30<25:18, 12.35s/it]"
     ]
    },
    {
     "name": "stdout",
     "output_type": "stream",
     "text": [
      "Erro: The request failed: Google returned a response with code 429\n",
      "Pausing for 5 seconds and retrying...\n",
      "\u001b[H\u001b[2J"
     ]
    },
    {
     "name": "stderr",
     "output_type": "stream",
     "text": [
      " 34%|███▍      | 63/185 [04:40<23:38, 11.63s/it]"
     ]
    },
    {
     "name": "stdout",
     "output_type": "stream",
     "text": [
      "Erro: The request failed: Google returned a response with code 429\n",
      "Pausing for 5 seconds and retrying...\n",
      "\u001b[H\u001b[2J"
     ]
    },
    {
     "name": "stderr",
     "output_type": "stream",
     "text": [
      " 36%|███▌      | 66/185 [04:56<13:50,  6.98s/it]"
     ]
    },
    {
     "name": "stdout",
     "output_type": "stream",
     "text": [
      "Erro: The request failed: Google returned a response with code 429\n",
      "Pausing for 5 seconds and retrying...\n",
      "\u001b[H\u001b[2J"
     ]
    },
    {
     "name": "stderr",
     "output_type": "stream",
     "text": [
      " 36%|███▌      | 67/185 [05:06<15:41,  7.98s/it]"
     ]
    },
    {
     "name": "stdout",
     "output_type": "stream",
     "text": [
      "Erro: The request failed: Google returned a response with code 429\n",
      "Pausing for 5 seconds and retrying...\n",
      "\u001b[H\u001b[2J"
     ]
    },
    {
     "name": "stderr",
     "output_type": "stream",
     "text": [
      " 39%|███▉      | 72/185 [05:30<08:33,  4.54s/it]"
     ]
    },
    {
     "name": "stdout",
     "output_type": "stream",
     "text": [
      "Erro: The request failed: Google returned a response with code 429\n",
      "Pausing for 5 seconds and retrying...\n",
      "\u001b[H\u001b[2JErro: The request failed: Google returned a response with code 429\n",
      "Pausing for 5 seconds and retrying...\n",
      "\u001b[H\u001b[2J"
     ]
    },
    {
     "name": "stderr",
     "output_type": "stream",
     "text": [
      " 39%|███▉      | 73/185 [05:47<15:33,  8.34s/it]"
     ]
    },
    {
     "name": "stdout",
     "output_type": "stream",
     "text": [
      "Erro: The request failed: Google returned a response with code 429\n",
      "Pausing for 5 seconds and retrying...\n",
      "\u001b[H\u001b[2J"
     ]
    },
    {
     "name": "stderr",
     "output_type": "stream",
     "text": [
      " 41%|████      | 75/185 [06:00<13:09,  7.18s/it]"
     ]
    },
    {
     "name": "stdout",
     "output_type": "stream",
     "text": [
      "Erro: The request failed: Google returned a response with code 429\n",
      "Pausing for 5 seconds and retrying...\n",
      "\u001b[H\u001b[2J"
     ]
    },
    {
     "name": "stderr",
     "output_type": "stream",
     "text": [
      " 41%|████      | 76/185 [06:10<14:44,  8.11s/it]"
     ]
    },
    {
     "name": "stdout",
     "output_type": "stream",
     "text": [
      "Erro: The request failed: Google returned a response with code 429\n",
      "Pausing for 5 seconds and retrying...\n",
      "\u001b[H\u001b[2J"
     ]
    },
    {
     "name": "stderr",
     "output_type": "stream",
     "text": [
      " 42%|████▏     | 77/185 [06:21<15:52,  8.82s/it]"
     ]
    },
    {
     "name": "stdout",
     "output_type": "stream",
     "text": [
      "Erro: The request failed: Google returned a response with code 429\n",
      "Pausing for 5 seconds and retrying...\n",
      "\u001b[H\u001b[2JErro: The request failed: Google returned a response with code 429\n",
      "Pausing for 5 seconds and retrying...\n",
      "\u001b[H\u001b[2JErro: The request failed: Google returned a response with code 429\n",
      "Pausing for 5 seconds and retrying...\n",
      "\u001b[H\u001b[2J"
     ]
    },
    {
     "name": "stderr",
     "output_type": "stream",
     "text": [
      " 44%|████▍     | 81/185 [06:55<11:47,  6.81s/it]"
     ]
    },
    {
     "name": "stdout",
     "output_type": "stream",
     "text": [
      "Erro: The request failed: Google returned a response with code 429\n",
      "Pausing for 5 seconds and retrying...\n",
      "\u001b[H\u001b[2J"
     ]
    },
    {
     "name": "stderr",
     "output_type": "stream",
     "text": [
      " 44%|████▍     | 82/185 [07:06<13:29,  7.86s/it]"
     ]
    },
    {
     "name": "stdout",
     "output_type": "stream",
     "text": [
      "Erro: The request failed: Google returned a response with code 429\n",
      "Pausing for 5 seconds and retrying...\n",
      "\u001b[H\u001b[2J"
     ]
    },
    {
     "name": "stderr",
     "output_type": "stream",
     "text": [
      " 58%|█████▊    | 107/185 [08:30<03:54,  3.00s/it]"
     ]
    },
    {
     "name": "stdout",
     "output_type": "stream",
     "text": [
      "Erro: The request failed: Google returned a response with code 429\n",
      "Pausing for 5 seconds and retrying...\n",
      "\u001b[H\u001b[2J"
     ]
    },
    {
     "name": "stderr",
     "output_type": "stream",
     "text": [
      " 59%|█████▉    | 109/185 [08:43<05:30,  4.35s/it]"
     ]
    },
    {
     "name": "stdout",
     "output_type": "stream",
     "text": [
      "Erro: The request failed: Google returned a response with code 429\n",
      "Pausing for 5 seconds and retrying...\n",
      "\u001b[H\u001b[2J"
     ]
    },
    {
     "name": "stderr",
     "output_type": "stream",
     "text": [
      " 61%|██████    | 112/185 [09:00<05:37,  4.62s/it]"
     ]
    },
    {
     "name": "stdout",
     "output_type": "stream",
     "text": [
      "Erro: The request failed: Google returned a response with code 429\n",
      "Pausing for 5 seconds and retrying...\n",
      "\u001b[H\u001b[2JErro: The request failed: Google returned a response with code 429\n",
      "Pausing for 5 seconds and retrying...\n",
      "\u001b[H\u001b[2J"
     ]
    },
    {
     "name": "stderr",
     "output_type": "stream",
     "text": [
      " 63%|██████▎   | 117/185 [09:29<04:56,  4.36s/it]"
     ]
    },
    {
     "name": "stdout",
     "output_type": "stream",
     "text": [
      "Erro: The request failed: Google returned a response with code 429\n",
      "Pausing for 5 seconds and retrying...\n",
      "\u001b[H\u001b[2J"
     ]
    },
    {
     "name": "stderr",
     "output_type": "stream",
     "text": [
      " 64%|██████▍   | 118/185 [09:39<06:50,  6.13s/it]"
     ]
    },
    {
     "name": "stdout",
     "output_type": "stream",
     "text": [
      "Erro: The request failed: Google returned a response with code 429\n",
      "Pausing for 5 seconds and retrying...\n",
      "\u001b[H\u001b[2J"
     ]
    },
    {
     "name": "stderr",
     "output_type": "stream",
     "text": [
      " 64%|██████▍   | 119/185 [09:49<08:01,  7.30s/it]"
     ]
    },
    {
     "name": "stdout",
     "output_type": "stream",
     "text": [
      "Erro: The request failed: Google returned a response with code 429\n",
      "Pausing for 5 seconds and retrying...\n",
      "\u001b[H\u001b[2J"
     ]
    },
    {
     "name": "stderr",
     "output_type": "stream",
     "text": [
      " 66%|██████▋   | 123/185 [10:07<04:39,  4.52s/it]"
     ]
    },
    {
     "name": "stdout",
     "output_type": "stream",
     "text": [
      "Erro: The request failed: Google returned a response with code 429\n",
      "Pausing for 5 seconds and retrying...\n",
      "\u001b[H\u001b[2J"
     ]
    },
    {
     "name": "stderr",
     "output_type": "stream",
     "text": [
      " 67%|██████▋   | 124/185 [10:17<06:24,  6.30s/it]"
     ]
    },
    {
     "name": "stdout",
     "output_type": "stream",
     "text": [
      "Erro: The request failed: Google returned a response with code 429\n",
      "Pausing for 5 seconds and retrying...\n",
      "\u001b[H\u001b[2J"
     ]
    },
    {
     "name": "stderr",
     "output_type": "stream",
     "text": [
      " 69%|██████▊   | 127/185 [10:34<05:03,  5.23s/it]"
     ]
    },
    {
     "name": "stdout",
     "output_type": "stream",
     "text": [
      "Erro: The request failed: Google returned a response with code 429\n",
      "Pausing for 5 seconds and retrying...\n",
      "\u001b[H\u001b[2JErro: The request failed: Google returned a response with code 429\n",
      "Pausing for 5 seconds and retrying...\n",
      "\u001b[H\u001b[2J"
     ]
    },
    {
     "name": "stderr",
     "output_type": "stream",
     "text": [
      " 69%|██████▉   | 128/185 [10:51<08:17,  8.73s/it]"
     ]
    },
    {
     "name": "stdout",
     "output_type": "stream",
     "text": [
      "Erro: The request failed: Google returned a response with code 429\n",
      "Pausing for 5 seconds and retrying...\n",
      "\u001b[H\u001b[2J"
     ]
    },
    {
     "name": "stderr",
     "output_type": "stream",
     "text": [
      " 78%|███████▊  | 145/185 [11:48<01:56,  2.90s/it]"
     ]
    },
    {
     "name": "stdout",
     "output_type": "stream",
     "text": [
      "Erro: The request failed: Google returned a response with code 429\n",
      "Pausing for 5 seconds and retrying...\n",
      "\u001b[H\u001b[2J"
     ]
    },
    {
     "name": "stderr",
     "output_type": "stream",
     "text": [
      " 83%|████████▎ | 153/185 [12:20<01:48,  3.38s/it]"
     ]
    },
    {
     "name": "stdout",
     "output_type": "stream",
     "text": [
      "Erro: The request failed: Google returned a response with code 429\n",
      "Pausing for 5 seconds and retrying...\n",
      "\u001b[H\u001b[2J"
     ]
    },
    {
     "name": "stderr",
     "output_type": "stream",
     "text": [
      " 84%|████████▍ | 156/185 [12:36<01:59,  4.14s/it]"
     ]
    },
    {
     "name": "stdout",
     "output_type": "stream",
     "text": [
      "Erro: The request failed: Google returned a response with code 429\n",
      "Pausing for 5 seconds and retrying...\n",
      "\u001b[H\u001b[2J"
     ]
    },
    {
     "name": "stderr",
     "output_type": "stream",
     "text": [
      " 85%|████████▍ | 157/185 [12:46<02:46,  5.93s/it]"
     ]
    },
    {
     "name": "stdout",
     "output_type": "stream",
     "text": [
      "Erro: The request failed: Google returned a response with code 429\n",
      "Pausing for 5 seconds and retrying...\n",
      "\u001b[H\u001b[2J"
     ]
    },
    {
     "name": "stderr",
     "output_type": "stream",
     "text": [
      " 89%|████████▊ | 164/185 [13:13<01:11,  3.41s/it]"
     ]
    },
    {
     "name": "stdout",
     "output_type": "stream",
     "text": [
      "Erro: The request failed: Google returned a response with code 429\n",
      "Pausing for 5 seconds and retrying...\n",
      "\u001b[H\u001b[2J"
     ]
    },
    {
     "name": "stderr",
     "output_type": "stream",
     "text": [
      " 89%|████████▉ | 165/185 [13:22<01:43,  5.18s/it]"
     ]
    },
    {
     "name": "stdout",
     "output_type": "stream",
     "text": [
      "Erro: The request failed: Google returned a response with code 429\n",
      "Pausing for 5 seconds and retrying...\n",
      "\u001b[H\u001b[2J"
     ]
    },
    {
     "name": "stderr",
     "output_type": "stream",
     "text": [
      " 90%|████████▉ | 166/185 [13:32<02:02,  6.46s/it]"
     ]
    },
    {
     "name": "stdout",
     "output_type": "stream",
     "text": [
      "Erro: The request failed: Google returned a response with code 429\n",
      "Pausing for 5 seconds and retrying...\n",
      "\u001b[H\u001b[2J"
     ]
    },
    {
     "name": "stderr",
     "output_type": "stream",
     "text": [
      " 97%|█████████▋| 180/185 [14:18<00:15,  3.04s/it]"
     ]
    },
    {
     "name": "stdout",
     "output_type": "stream",
     "text": [
      "Erro: The request failed: Google returned a response with code 429\n",
      "Pausing for 5 seconds and retrying...\n",
      "\u001b[H\u001b[2J"
     ]
    },
    {
     "name": "stderr",
     "output_type": "stream",
     "text": [
      " 98%|█████████▊| 182/185 [14:31<00:13,  4.60s/it]"
     ]
    },
    {
     "name": "stdout",
     "output_type": "stream",
     "text": [
      "Erro: The request failed: Google returned a response with code 429\n",
      "Pausing for 5 seconds and retrying...\n",
      "\u001b[H\u001b[2J"
     ]
    },
    {
     "name": "stderr",
     "output_type": "stream",
     "text": [
      " 99%|█████████▉| 183/185 [14:41<00:12,  6.22s/it]"
     ]
    },
    {
     "name": "stdout",
     "output_type": "stream",
     "text": [
      "Erro: The request failed: Google returned a response with code 429\n",
      "Pausing for 5 seconds and retrying...\n",
      "\u001b[H\u001b[2J"
     ]
    },
    {
     "name": "stderr",
     "output_type": "stream",
     "text": [
      "100%|██████████| 185/185 [14:53<00:00,  4.83s/it]\n",
      " 10%|█         | 19/185 [00:55<07:53,  2.85s/it]"
     ]
    },
    {
     "name": "stdout",
     "output_type": "stream",
     "text": [
      "Erro: The request failed: Google returned a response with code 429\n",
      "Pausing for 5 seconds and retrying...\n",
      "\u001b[H\u001b[2JErro: The request failed: Google returned a response with code 429\n",
      "Pausing for 5 seconds and retrying...\n",
      "\u001b[H\u001b[2J"
     ]
    },
    {
     "name": "stderr",
     "output_type": "stream",
     "text": [
      " 11%|█         | 20/185 [01:11<19:28,  7.08s/it]"
     ]
    },
    {
     "name": "stdout",
     "output_type": "stream",
     "text": [
      "Erro: The request failed: Google returned a response with code 429\n",
      "Pausing for 5 seconds and retrying...\n",
      "\u001b[H\u001b[2J"
     ]
    },
    {
     "name": "stderr",
     "output_type": "stream",
     "text": [
      " 15%|█▍        | 27/185 [01:42<11:07,  4.23s/it]"
     ]
    },
    {
     "name": "stdout",
     "output_type": "stream",
     "text": [
      "Erro: The request failed: Google returned a response with code 429\n",
      "Pausing for 5 seconds and retrying...\n",
      "\u001b[H\u001b[2J"
     ]
    },
    {
     "name": "stderr",
     "output_type": "stream",
     "text": [
      " 28%|██▊       | 51/185 [02:59<06:03,  2.71s/it]"
     ]
    },
    {
     "name": "stdout",
     "output_type": "stream",
     "text": [
      "Erro: The request failed: Google returned a response with code 429\n",
      "Pausing for 5 seconds and retrying...\n",
      "\u001b[H\u001b[2JErro: The request failed: Google returned a response with code 429\n",
      "Pausing for 5 seconds and retrying...\n",
      "\u001b[H\u001b[2J"
     ]
    },
    {
     "name": "stderr",
     "output_type": "stream",
     "text": [
      " 58%|█████▊    | 107/185 [05:50<03:41,  2.84s/it]"
     ]
    },
    {
     "name": "stdout",
     "output_type": "stream",
     "text": [
      "Erro: The request failed: Google returned a response with code 429\n",
      "Pausing for 5 seconds and retrying...\n",
      "\u001b[H\u001b[2JErro: The request failed: Google returned a response with code 429\n",
      "Pausing for 5 seconds and retrying...\n",
      "\u001b[H\u001b[2J"
     ]
    },
    {
     "name": "stderr",
     "output_type": "stream",
     "text": [
      " 61%|██████    | 113/185 [06:20<04:08,  3.45s/it]"
     ]
    },
    {
     "name": "stdout",
     "output_type": "stream",
     "text": [
      "Erro: The request failed: Google returned a response with code 429\n",
      "Pausing for 5 seconds and retrying...\n",
      "\u001b[H\u001b[2J"
     ]
    },
    {
     "name": "stderr",
     "output_type": "stream",
     "text": [
      " 64%|██████▍   | 119/185 [06:43<03:19,  3.02s/it]"
     ]
    },
    {
     "name": "stdout",
     "output_type": "stream",
     "text": [
      "Erro: The request failed: Google returned a response with code 429\n",
      "Pausing for 5 seconds and retrying...\n",
      "\u001b[H\u001b[2J"
     ]
    },
    {
     "name": "stderr",
     "output_type": "stream",
     "text": [
      " 71%|███████   | 131/185 [07:23<02:32,  2.82s/it]"
     ]
    },
    {
     "name": "stdout",
     "output_type": "stream",
     "text": [
      "Erro: The request failed: Google returned a response with code 429\n",
      "Pausing for 5 seconds and retrying...\n",
      "\u001b[H\u001b[2J"
     ]
    },
    {
     "name": "stderr",
     "output_type": "stream",
     "text": [
      " 72%|███████▏  | 134/185 [07:37<03:10,  3.73s/it]"
     ]
    },
    {
     "name": "stdout",
     "output_type": "stream",
     "text": [
      "Erro: The request failed: Google returned a response with code 429\n",
      "Pausing for 5 seconds and retrying...\n",
      "\u001b[H\u001b[2JErro: The request failed: Google returned a response with code 429\n",
      "Pausing for 5 seconds and retrying...\n",
      "\u001b[H\u001b[2J"
     ]
    },
    {
     "name": "stderr",
     "output_type": "stream",
     "text": [
      " 91%|█████████▏| 169/185 [09:27<00:41,  2.61s/it]"
     ]
    },
    {
     "name": "stdout",
     "output_type": "stream",
     "text": [
      "Erro: The request failed: Google returned a response with code 429\n",
      "Pausing for 5 seconds and retrying...\n",
      "\u001b[H\u001b[2J"
     ]
    },
    {
     "name": "stderr",
     "output_type": "stream",
     "text": [
      "100%|██████████| 185/185 [10:16<00:00,  3.33s/it]\n",
      "  2%|▏         | 4/185 [00:11<08:39,  2.87s/it]"
     ]
    },
    {
     "name": "stdout",
     "output_type": "stream",
     "text": [
      "Erro: The request failed: Google returned a response with code 429\n",
      "Pausing for 5 seconds and retrying...\n",
      "\u001b[H\u001b[2J"
     ]
    },
    {
     "name": "stderr",
     "output_type": "stream",
     "text": [
      "  4%|▍         | 7/185 [00:27<11:59,  4.04s/it]"
     ]
    },
    {
     "name": "stdout",
     "output_type": "stream",
     "text": [
      "Erro: The request failed: Google returned a response with code 429\n",
      "Pausing for 5 seconds and retrying...\n",
      "\u001b[H\u001b[2J"
     ]
    },
    {
     "name": "stderr",
     "output_type": "stream",
     "text": [
      "  5%|▌         | 10/185 [00:43<12:43,  4.36s/it]"
     ]
    },
    {
     "name": "stdout",
     "output_type": "stream",
     "text": [
      "Erro: The request failed: Google returned a response with code 429\n",
      "Pausing for 5 seconds and retrying...\n",
      "\u001b[H\u001b[2J"
     ]
    },
    {
     "name": "stderr",
     "output_type": "stream",
     "text": [
      "  6%|▌         | 11/185 [00:54<18:17,  6.31s/it]"
     ]
    },
    {
     "name": "stdout",
     "output_type": "stream",
     "text": [
      "Erro: The request failed: Google returned a response with code 429\n",
      "Pausing for 5 seconds and retrying...\n",
      "\u001b[H\u001b[2J"
     ]
    },
    {
     "name": "stderr",
     "output_type": "stream",
     "text": [
      "  8%|▊         | 15/185 [01:13<12:51,  4.54s/it]"
     ]
    },
    {
     "name": "stdout",
     "output_type": "stream",
     "text": [
      "Erro: The request failed: Google returned a response with code 429\n",
      "Pausing for 5 seconds and retrying...\n",
      "\u001b[H\u001b[2J"
     ]
    },
    {
     "name": "stderr",
     "output_type": "stream",
     "text": [
      " 15%|█▌        | 28/185 [01:57<07:21,  2.81s/it]"
     ]
    },
    {
     "name": "stdout",
     "output_type": "stream",
     "text": [
      "Erro: The request failed: Google returned a response with code 429\n",
      "Pausing for 5 seconds and retrying...\n",
      "\u001b[H\u001b[2J"
     ]
    },
    {
     "name": "stderr",
     "output_type": "stream",
     "text": [
      " 22%|██▏       | 40/185 [02:41<07:35,  3.14s/it]"
     ]
    },
    {
     "name": "stdout",
     "output_type": "stream",
     "text": [
      "Erro: The request failed: Google returned a response with code 429\n",
      "Pausing for 5 seconds and retrying...\n",
      "\u001b[H\u001b[2JErro: The request failed: Google returned a response with code 429\n",
      "Pausing for 5 seconds and retrying...\n",
      "\u001b[H\u001b[2JErro: The request failed: Google returned a response with code 429\n",
      "Pausing for 5 seconds and retrying...\n",
      "\u001b[H\u001b[2J"
     ]
    },
    {
     "name": "stderr",
     "output_type": "stream",
     "text": [
      " 25%|██▌       | 47/185 [03:22<08:36,  3.75s/it]"
     ]
    },
    {
     "name": "stdout",
     "output_type": "stream",
     "text": [
      "Erro: The request failed: Google returned a response with code 429\n",
      "Pausing for 5 seconds and retrying...\n",
      "\u001b[H\u001b[2J"
     ]
    },
    {
     "name": "stderr",
     "output_type": "stream",
     "text": [
      " 27%|██▋       | 50/185 [03:38<09:56,  4.42s/it]"
     ]
    },
    {
     "name": "stdout",
     "output_type": "stream",
     "text": [
      "Erro: The request failed: Google returned a response with code 429\n",
      "Pausing for 5 seconds and retrying...\n",
      "\u001b[H\u001b[2J"
     ]
    },
    {
     "name": "stderr",
     "output_type": "stream",
     "text": [
      " 29%|██▊       | 53/185 [03:54<10:05,  4.58s/it]"
     ]
    },
    {
     "name": "stdout",
     "output_type": "stream",
     "text": [
      "Erro: The request failed: Google returned a response with code 429\n",
      "Pausing for 5 seconds and retrying...\n",
      "\u001b[H\u001b[2J"
     ]
    },
    {
     "name": "stderr",
     "output_type": "stream",
     "text": [
      " 30%|██▉       | 55/185 [04:08<11:39,  5.38s/it]"
     ]
    },
    {
     "name": "stdout",
     "output_type": "stream",
     "text": [
      "Erro: The request failed: Google returned a response with code 429\n",
      "Pausing for 5 seconds and retrying...\n",
      "\u001b[H\u001b[2J"
     ]
    },
    {
     "name": "stderr",
     "output_type": "stream",
     "text": [
      " 33%|███▎      | 61/185 [04:33<07:20,  3.55s/it]"
     ]
    },
    {
     "name": "stdout",
     "output_type": "stream",
     "text": [
      "Erro: The request failed: Google returned a response with code 429\n",
      "Pausing for 5 seconds and retrying...\n",
      "\u001b[H\u001b[2J"
     ]
    },
    {
     "name": "stderr",
     "output_type": "stream",
     "text": [
      " 34%|███▍      | 63/185 [04:46<09:39,  4.75s/it]"
     ]
    },
    {
     "name": "stdout",
     "output_type": "stream",
     "text": [
      "Erro: The request failed: Google returned a response with code 429\n",
      "Pausing for 5 seconds and retrying...\n",
      "\u001b[H\u001b[2JErro: The request failed: Google returned a response with code 429\n",
      "Pausing for 5 seconds and retrying...\n",
      "\u001b[H\u001b[2JErro: The request failed: Google returned a response with code 429\n",
      "Pausing for 5 seconds and retrying...\n",
      "\u001b[H\u001b[2J"
     ]
    },
    {
     "name": "stderr",
     "output_type": "stream",
     "text": [
      " 37%|███▋      | 68/185 [05:23<09:42,  4.98s/it]"
     ]
    },
    {
     "name": "stdout",
     "output_type": "stream",
     "text": [
      "Erro: The request failed: Google returned a response with code 429\n",
      "Pausing for 5 seconds and retrying...\n",
      "\u001b[H\u001b[2JErro: The request failed: Google returned a response with code 429\n",
      "Pausing for 5 seconds and retrying...\n",
      "\u001b[H\u001b[2JErro: The request failed: Google returned a response with code 429\n",
      "Pausing for 5 seconds and retrying...\n",
      "\u001b[H\u001b[2JErro: The request failed: Google returned a response with code 429\n",
      "Pausing for 5 seconds and retrying...\n",
      "\u001b[H\u001b[2JErro: The request failed: Google returned a response with code 429\n",
      "Pausing for 5 seconds and retrying...\n",
      "\u001b[H\u001b[2JErro: The request failed: Google returned a response with code 429\n",
      "Pausing for 5 seconds and retrying...\n",
      "\u001b[H\u001b[2J"
     ]
    },
    {
     "name": "stderr",
     "output_type": "stream",
     "text": [
      " 37%|███▋      | 69/185 [06:08<33:23, 17.27s/it]"
     ]
    },
    {
     "name": "stdout",
     "output_type": "stream",
     "text": [
      "Erro: The request failed: Google returned a response with code 429\n",
      "Pausing for 5 seconds and retrying...\n",
      "\u001b[H\u001b[2JErro: The request failed: Google returned a response with code 429\n",
      "Pausing for 5 seconds and retrying...\n",
      "\u001b[H\u001b[2JErro: The request failed: Google returned a response with code 429\n",
      "Pausing for 5 seconds and retrying...\n",
      "\u001b[H\u001b[2J"
     ]
    },
    {
     "name": "stderr",
     "output_type": "stream",
     "text": [
      " 41%|████      | 75/185 [06:46<10:27,  5.71s/it]"
     ]
    },
    {
     "name": "stdout",
     "output_type": "stream",
     "text": [
      "Erro: The request failed: Google returned a response with code 429\n",
      "Pausing for 5 seconds and retrying...\n",
      "\u001b[H\u001b[2J"
     ]
    },
    {
     "name": "stderr",
     "output_type": "stream",
     "text": [
      " 48%|████▊     | 88/185 [07:29<04:52,  3.01s/it]"
     ]
    },
    {
     "name": "stdout",
     "output_type": "stream",
     "text": [
      "Erro: The request failed: Google returned a response with code 429\n",
      "Pausing for 5 seconds and retrying...\n",
      "\u001b[H\u001b[2J"
     ]
    },
    {
     "name": "stderr",
     "output_type": "stream",
     "text": [
      " 48%|████▊     | 89/185 [07:39<08:14,  5.15s/it]"
     ]
    },
    {
     "name": "stdout",
     "output_type": "stream",
     "text": [
      "Erro: The request failed: Google returned a response with code 429\n",
      "Pausing for 5 seconds and retrying...\n",
      "\u001b[H\u001b[2J"
     ]
    },
    {
     "name": "stderr",
     "output_type": "stream",
     "text": [
      " 53%|█████▎    | 98/185 [08:12<04:37,  3.19s/it]"
     ]
    },
    {
     "name": "stdout",
     "output_type": "stream",
     "text": [
      "Erro: The request failed: Google returned a response with code 429\n",
      "Pausing for 5 seconds and retrying...\n",
      "\u001b[H\u001b[2J"
     ]
    },
    {
     "name": "stderr",
     "output_type": "stream",
     "text": [
      " 55%|█████▍    | 101/185 [08:27<05:35,  4.00s/it]"
     ]
    },
    {
     "name": "stdout",
     "output_type": "stream",
     "text": [
      "Erro: The request failed: Google returned a response with code 429\n",
      "Pausing for 5 seconds and retrying...\n",
      "\u001b[H\u001b[2J"
     ]
    },
    {
     "name": "stderr",
     "output_type": "stream",
     "text": [
      " 57%|█████▋    | 106/185 [08:50<05:03,  3.84s/it]"
     ]
    },
    {
     "name": "stdout",
     "output_type": "stream",
     "text": [
      "Erro: The request failed: Google returned a response with code 429\n",
      "Pausing for 5 seconds and retrying...\n",
      "\u001b[H\u001b[2J"
     ]
    },
    {
     "name": "stderr",
     "output_type": "stream",
     "text": [
      " 68%|██████▊   | 126/185 [09:55<02:56,  2.99s/it]"
     ]
    },
    {
     "name": "stdout",
     "output_type": "stream",
     "text": [
      "Erro: The request failed: Google returned a response with code 429\n",
      "Pausing for 5 seconds and retrying...\n",
      "\u001b[H\u001b[2J"
     ]
    },
    {
     "name": "stderr",
     "output_type": "stream",
     "text": [
      " 71%|███████   | 131/185 [10:17<03:08,  3.48s/it]"
     ]
    },
    {
     "name": "stdout",
     "output_type": "stream",
     "text": [
      "Erro: The request failed: Google returned a response with code 429\n",
      "Pausing for 5 seconds and retrying...\n",
      "\u001b[H\u001b[2J"
     ]
    },
    {
     "name": "stderr",
     "output_type": "stream",
     "text": [
      " 71%|███████▏  | 132/185 [10:28<04:55,  5.57s/it]"
     ]
    },
    {
     "name": "stdout",
     "output_type": "stream",
     "text": [
      "Erro: The request failed: Google returned a response with code 429\n",
      "Pausing for 5 seconds and retrying...\n",
      "\u001b[H\u001b[2J"
     ]
    },
    {
     "name": "stderr",
     "output_type": "stream",
     "text": [
      " 72%|███████▏  | 133/185 [10:38<06:08,  7.09s/it]"
     ]
    },
    {
     "name": "stdout",
     "output_type": "stream",
     "text": [
      "Erro: The request failed: Google returned a response with code 429\n",
      "Pausing for 5 seconds and retrying...\n",
      "\u001b[H\u001b[2J"
     ]
    },
    {
     "name": "stderr",
     "output_type": "stream",
     "text": [
      " 74%|███████▎  | 136/185 [10:54<04:25,  5.43s/it]"
     ]
    },
    {
     "name": "stdout",
     "output_type": "stream",
     "text": [
      "Erro: The request failed: Google returned a response with code 429\n",
      "Pausing for 5 seconds and retrying...\n",
      "\u001b[H\u001b[2JErro: The request failed: Google returned a response with code 429\n",
      "Pausing for 5 seconds and retrying...\n",
      "\u001b[H\u001b[2J"
     ]
    },
    {
     "name": "stderr",
     "output_type": "stream",
     "text": [
      " 84%|████████▍ | 156/185 [12:10<01:31,  3.16s/it]"
     ]
    },
    {
     "name": "stdout",
     "output_type": "stream",
     "text": [
      "Erro: The request failed: Google returned a response with code 429\n",
      "Pausing for 5 seconds and retrying...\n",
      "\u001b[H\u001b[2J"
     ]
    },
    {
     "name": "stderr",
     "output_type": "stream",
     "text": [
      "100%|██████████| 185/185 [13:36<00:00,  4.42s/it]\n",
      "  4%|▍         | 8/185 [00:22<08:16,  2.81s/it]"
     ]
    },
    {
     "name": "stdout",
     "output_type": "stream",
     "text": [
      "Erro: The request failed: Google returned a response with code 429\n",
      "Pausing for 5 seconds and retrying...\n",
      "\u001b[H\u001b[2JErro: The request failed: Google returned a response with code 429\n",
      "Pausing for 5 seconds and retrying...\n",
      "\u001b[H\u001b[2J"
     ]
    },
    {
     "name": "stderr",
     "output_type": "stream",
     "text": [
      "  5%|▌         | 10/185 [00:42<16:51,  5.78s/it]"
     ]
    },
    {
     "name": "stdout",
     "output_type": "stream",
     "text": [
      "Erro: The request failed: Google returned a response with code 429\n",
      "Pausing for 5 seconds and retrying...\n",
      "\u001b[H\u001b[2J"
     ]
    },
    {
     "name": "stderr",
     "output_type": "stream",
     "text": [
      "  9%|▉         | 17/185 [01:07<08:38,  3.09s/it]"
     ]
    },
    {
     "name": "stdout",
     "output_type": "stream",
     "text": [
      "Erro: The request failed: Google returned a response with code 429\n",
      "Pausing for 5 seconds and retrying...\n",
      "\u001b[H\u001b[2J"
     ]
    },
    {
     "name": "stderr",
     "output_type": "stream",
     "text": [
      " 11%|█▏        | 21/185 [01:26<10:29,  3.84s/it]"
     ]
    },
    {
     "name": "stdout",
     "output_type": "stream",
     "text": [
      "Erro: The request failed: Google returned a response with code 429\n",
      "Pausing for 5 seconds and retrying...\n",
      "\u001b[H\u001b[2J"
     ]
    },
    {
     "name": "stderr",
     "output_type": "stream",
     "text": [
      " 20%|██        | 37/185 [02:15<06:23,  2.59s/it]"
     ]
    },
    {
     "name": "stdout",
     "output_type": "stream",
     "text": [
      "Erro: The request failed: Google returned a response with code 429\n",
      "Pausing for 5 seconds and retrying...\n",
      "\u001b[H\u001b[2J"
     ]
    },
    {
     "name": "stderr",
     "output_type": "stream",
     "text": [
      " 25%|██▌       | 47/185 [02:49<06:22,  2.77s/it]"
     ]
    },
    {
     "name": "stdout",
     "output_type": "stream",
     "text": [
      "Erro: The request failed: Google returned a response with code 429\n",
      "Pausing for 5 seconds and retrying...\n",
      "\u001b[H\u001b[2J"
     ]
    },
    {
     "name": "stderr",
     "output_type": "stream",
     "text": [
      " 27%|██▋       | 50/185 [03:04<08:27,  3.76s/it]"
     ]
    },
    {
     "name": "stdout",
     "output_type": "stream",
     "text": [
      "Erro: The request failed: Google returned a response with code 429\n",
      "Pausing for 5 seconds and retrying...\n",
      "\u001b[H\u001b[2J"
     ]
    },
    {
     "name": "stderr",
     "output_type": "stream",
     "text": [
      " 31%|███       | 57/185 [03:28<06:18,  2.96s/it]"
     ]
    },
    {
     "name": "stdout",
     "output_type": "stream",
     "text": [
      "Erro: The request failed: Google returned a response with code 429\n",
      "Pausing for 5 seconds and retrying...\n",
      "\u001b[H\u001b[2J"
     ]
    },
    {
     "name": "stderr",
     "output_type": "stream",
     "text": [
      " 31%|███▏      | 58/185 [03:38<10:36,  5.01s/it]"
     ]
    },
    {
     "name": "stdout",
     "output_type": "stream",
     "text": [
      "Erro: The request failed: Google returned a response with code 429\n",
      "Pausing for 5 seconds and retrying...\n",
      "\u001b[H\u001b[2J"
     ]
    },
    {
     "name": "stderr",
     "output_type": "stream",
     "text": [
      " 37%|███▋      | 68/185 [04:10<04:47,  2.46s/it]"
     ]
    },
    {
     "name": "stdout",
     "output_type": "stream",
     "text": [
      "Erro: The request failed: Google returned a response with code 429\n",
      "Pausing for 5 seconds and retrying...\n",
      "\u001b[H\u001b[2J"
     ]
    },
    {
     "name": "stderr",
     "output_type": "stream",
     "text": [
      " 39%|███▉      | 73/185 [04:29<05:18,  2.85s/it]"
     ]
    },
    {
     "name": "stdout",
     "output_type": "stream",
     "text": [
      "Erro: The request failed: Google returned a response with code 429\n",
      "Pausing for 5 seconds and retrying...\n",
      "\u001b[H\u001b[2J"
     ]
    },
    {
     "name": "stderr",
     "output_type": "stream",
     "text": [
      " 42%|████▏     | 78/185 [04:46<04:58,  2.79s/it]"
     ]
    },
    {
     "name": "stdout",
     "output_type": "stream",
     "text": [
      "Erro: The request failed: Google returned a response with code 429\n",
      "Pausing for 5 seconds and retrying...\n",
      "\u001b[H\u001b[2JErro: The request failed: Google returned a response with code 429\n",
      "Pausing for 5 seconds and retrying...\n",
      "\u001b[H\u001b[2J"
     ]
    },
    {
     "name": "stderr",
     "output_type": "stream",
     "text": [
      " 45%|████▍     | 83/185 [05:14<06:30,  3.83s/it]"
     ]
    },
    {
     "name": "stdout",
     "output_type": "stream",
     "text": [
      "Erro: The request failed: Google returned a response with code 429\n",
      "Pausing for 5 seconds and retrying...\n",
      "\u001b[H\u001b[2JErro: The request failed: Google returned a response with code 429\n",
      "Pausing for 5 seconds and retrying...\n",
      "\u001b[H\u001b[2J"
     ]
    },
    {
     "name": "stderr",
     "output_type": "stream",
     "text": [
      " 45%|████▌     | 84/185 [05:31<12:49,  7.62s/it]"
     ]
    },
    {
     "name": "stdout",
     "output_type": "stream",
     "text": [
      "Erro: The request failed: Google returned a response with code 429\n",
      "Pausing for 5 seconds and retrying...\n",
      "\u001b[H\u001b[2J"
     ]
    },
    {
     "name": "stderr",
     "output_type": "stream",
     "text": [
      " 46%|████▌     | 85/185 [05:40<13:30,  8.10s/it]"
     ]
    },
    {
     "name": "stdout",
     "output_type": "stream",
     "text": [
      "Erro: The request failed: Google returned a response with code 429\n",
      "Pausing for 5 seconds and retrying...\n",
      "\u001b[H\u001b[2J"
     ]
    },
    {
     "name": "stderr",
     "output_type": "stream",
     "text": [
      " 48%|████▊     | 89/185 [05:59<07:54,  4.94s/it]"
     ]
    },
    {
     "name": "stdout",
     "output_type": "stream",
     "text": [
      "Erro: The request failed: Google returned a response with code 429\n",
      "Pausing for 5 seconds and retrying...\n",
      "\u001b[H\u001b[2J"
     ]
    },
    {
     "name": "stderr",
     "output_type": "stream",
     "text": [
      " 49%|████▊     | 90/185 [06:09<10:19,  6.52s/it]"
     ]
    },
    {
     "name": "stdout",
     "output_type": "stream",
     "text": [
      "Erro: The request failed: Google returned a response with code 429\n",
      "Pausing for 5 seconds and retrying...\n",
      "\u001b[H\u001b[2JErro: The request failed: Google returned a response with code 429\n",
      "Pausing for 5 seconds and retrying...\n",
      "\u001b[H\u001b[2J"
     ]
    },
    {
     "name": "stderr",
     "output_type": "stream",
     "text": [
      " 55%|█████▍    | 101/185 [06:53<03:58,  2.83s/it]"
     ]
    },
    {
     "name": "stdout",
     "output_type": "stream",
     "text": [
      "Erro: The request failed: Google returned a response with code 429\n",
      "Pausing for 5 seconds and retrying...\n",
      "\u001b[H\u001b[2J"
     ]
    },
    {
     "name": "stderr",
     "output_type": "stream",
     "text": [
      " 62%|██████▏   | 115/185 [07:42<03:31,  3.02s/it]"
     ]
    },
    {
     "name": "stdout",
     "output_type": "stream",
     "text": [
      "Erro: The request failed: Google returned a response with code 429\n",
      "Pausing for 5 seconds and retrying...\n",
      "\u001b[H\u001b[2J"
     ]
    },
    {
     "name": "stderr",
     "output_type": "stream",
     "text": [
      " 79%|███████▉  | 146/185 [09:19<01:57,  3.01s/it]"
     ]
    },
    {
     "name": "stdout",
     "output_type": "stream",
     "text": [
      "Erro: The request failed: Google returned a response with code 429\n",
      "Pausing for 5 seconds and retrying...\n",
      "\u001b[H\u001b[2JErro: The request failed: Google returned a response with code 429\n",
      "Pausing for 5 seconds and retrying...\n",
      "\u001b[H\u001b[2J"
     ]
    },
    {
     "name": "stderr",
     "output_type": "stream",
     "text": [
      " 86%|████████▋ | 160/185 [10:15<01:13,  2.93s/it]"
     ]
    },
    {
     "name": "stdout",
     "output_type": "stream",
     "text": [
      "Erro: The request failed: Google returned a response with code 429\n",
      "Pausing for 5 seconds and retrying...\n",
      "\u001b[H\u001b[2J"
     ]
    },
    {
     "name": "stderr",
     "output_type": "stream",
     "text": [
      " 96%|█████████▌| 178/185 [11:17<00:21,  3.10s/it]"
     ]
    },
    {
     "name": "stdout",
     "output_type": "stream",
     "text": [
      "Erro: The request failed: Google returned a response with code 429\n",
      "Pausing for 5 seconds and retrying...\n",
      "\u001b[H\u001b[2J"
     ]
    },
    {
     "name": "stderr",
     "output_type": "stream",
     "text": [
      " 99%|█████████▉| 183/185 [11:38<00:06,  3.48s/it]"
     ]
    },
    {
     "name": "stdout",
     "output_type": "stream",
     "text": [
      "Erro: The request failed: Google returned a response with code 429\n",
      "Pausing for 5 seconds and retrying...\n",
      "\u001b[H\u001b[2J"
     ]
    },
    {
     "name": "stderr",
     "output_type": "stream",
     "text": [
      "100%|██████████| 185/185 [11:51<00:00,  3.85s/it]\n",
      "  3%|▎         | 5/184 [00:13<07:43,  2.59s/it]"
     ]
    },
    {
     "name": "stdout",
     "output_type": "stream",
     "text": [
      "Erro: The request failed: Google returned a response with code 429\n",
      "Pausing for 5 seconds and retrying...\n",
      "\u001b[H\u001b[2J"
     ]
    },
    {
     "name": "stderr",
     "output_type": "stream",
     "text": [
      "  4%|▍         | 7/184 [00:25<12:33,  4.26s/it]"
     ]
    },
    {
     "name": "stdout",
     "output_type": "stream",
     "text": [
      "Erro: The request failed: Google returned a response with code 429\n",
      "Pausing for 5 seconds and retrying...\n",
      "\u001b[H\u001b[2J"
     ]
    },
    {
     "name": "stderr",
     "output_type": "stream",
     "text": [
      " 16%|█▌        | 29/184 [01:38<07:02,  2.72s/it]"
     ]
    },
    {
     "name": "stdout",
     "output_type": "stream",
     "text": [
      "Erro: The request failed: Google returned a response with code 429\n",
      "Pausing for 5 seconds and retrying...\n",
      "\u001b[H\u001b[2J"
     ]
    },
    {
     "name": "stderr",
     "output_type": "stream",
     "text": [
      " 18%|█▊        | 34/184 [02:00<08:20,  3.34s/it]"
     ]
    },
    {
     "name": "stdout",
     "output_type": "stream",
     "text": [
      "Erro: The request failed: Google returned a response with code 429\n",
      "Pausing for 5 seconds and retrying...\n",
      "\u001b[H\u001b[2JErro: The request failed: Google returned a response with code 429\n",
      "Pausing for 5 seconds and retrying...\n",
      "\u001b[H\u001b[2J"
     ]
    },
    {
     "name": "stderr",
     "output_type": "stream",
     "text": [
      " 24%|██▍       | 45/184 [02:45<06:37,  2.86s/it]"
     ]
    },
    {
     "name": "stdout",
     "output_type": "stream",
     "text": [
      "Erro: The request failed: Google returned a response with code 429\n",
      "Pausing for 5 seconds and retrying...\n",
      "\u001b[H\u001b[2J"
     ]
    },
    {
     "name": "stderr",
     "output_type": "stream",
     "text": [
      " 36%|███▌      | 66/184 [03:55<05:49,  2.96s/it]"
     ]
    },
    {
     "name": "stdout",
     "output_type": "stream",
     "text": [
      "Erro: HTTPSConnectionPool(host='trends.google.com', port=443): Max retries exceeded with url: /trends/api/explore?hl=en-US&tz=360&req=%7B%22comparisonItem%22%3A+%5B%7B%22keyword%22%3A+%22einstein%22%2C+%22time%22%3A+%222022-08-05+2023-05-28%22%2C+%22geo%22%3A+%22%22%7D%2C+%7B%22keyword%22%3A+%22Mohamed+Camara%22%2C+%22time%22%3A+%222022-08-05+2023-05-28%22%2C+%22geo%22%3A+%22%22%7D%5D%2C+%22category%22%3A+0%2C+%22property%22%3A+%22%22%7D (Caused by NewConnectionError('<urllib3.connection.HTTPSConnection object at 0x7ff25d0b8ca0>: Failed to establish a new connection: [Errno -2] Name or service not known'))\n",
      "Pausing for 5 seconds and retrying...\n",
      "\u001b[H\u001b[2J"
     ]
    },
    {
     "name": "stderr",
     "output_type": "stream",
     "text": [
      " 43%|████▎     | 80/184 [04:40<04:53,  2.82s/it]"
     ]
    },
    {
     "name": "stdout",
     "output_type": "stream",
     "text": [
      "Erro: The request failed: Google returned a response with code 429\n",
      "Pausing for 5 seconds and retrying...\n",
      "\u001b[H\u001b[2J"
     ]
    },
    {
     "name": "stderr",
     "output_type": "stream",
     "text": [
      " 45%|████▍     | 82/184 [04:52<07:03,  4.15s/it]"
     ]
    },
    {
     "name": "stdout",
     "output_type": "stream",
     "text": [
      "Erro: The request failed: Google returned a response with code 429\n",
      "Pausing for 5 seconds and retrying...\n",
      "\u001b[H\u001b[2J"
     ]
    },
    {
     "name": "stderr",
     "output_type": "stream",
     "text": [
      " 46%|████▌     | 85/184 [05:07<07:03,  4.27s/it]"
     ]
    },
    {
     "name": "stdout",
     "output_type": "stream",
     "text": [
      "Erro: The request failed: Google returned a response with code 429\n",
      "Pausing for 5 seconds and retrying...\n",
      "\u001b[H\u001b[2J"
     ]
    },
    {
     "name": "stderr",
     "output_type": "stream",
     "text": [
      " 51%|█████     | 94/184 [05:40<04:27,  2.97s/it]"
     ]
    },
    {
     "name": "stdout",
     "output_type": "stream",
     "text": [
      "Erro: The request failed: Google returned a response with code 429\n",
      "Pausing for 5 seconds and retrying...\n",
      "\u001b[H\u001b[2JErro: The request failed: Google returned a response with code 429\n",
      "Pausing for 5 seconds and retrying...\n",
      "\u001b[H\u001b[2J"
     ]
    },
    {
     "name": "stderr",
     "output_type": "stream",
     "text": [
      " 56%|█████▌    | 103/184 [06:17<03:40,  2.72s/it]"
     ]
    },
    {
     "name": "stdout",
     "output_type": "stream",
     "text": [
      "Erro: The request failed: Google returned a response with code 429\n",
      "Pausing for 5 seconds and retrying...\n",
      "\u001b[H\u001b[2J"
     ]
    },
    {
     "name": "stderr",
     "output_type": "stream",
     "text": [
      " 57%|█████▋    | 105/184 [06:29<05:21,  4.06s/it]"
     ]
    },
    {
     "name": "stdout",
     "output_type": "stream",
     "text": [
      "Erro: The request failed: Google returned a response with code 429\n",
      "Pausing for 5 seconds and retrying...\n",
      "\u001b[H\u001b[2J"
     ]
    },
    {
     "name": "stderr",
     "output_type": "stream",
     "text": [
      " 58%|█████▊    | 107/184 [06:41<05:51,  4.56s/it]"
     ]
    },
    {
     "name": "stdout",
     "output_type": "stream",
     "text": [
      "Erro: The request failed: Google returned a response with code 429\n",
      "Pausing for 5 seconds and retrying...\n",
      "\u001b[H\u001b[2J"
     ]
    },
    {
     "name": "stderr",
     "output_type": "stream",
     "text": [
      " 59%|█████▊    | 108/184 [06:49<07:20,  5.79s/it]"
     ]
    },
    {
     "name": "stdout",
     "output_type": "stream",
     "text": [
      "Erro: The request failed: Google returned a response with code 429\n",
      "Pausing for 5 seconds and retrying...\n",
      "\u001b[H\u001b[2J"
     ]
    },
    {
     "name": "stderr",
     "output_type": "stream",
     "text": [
      " 61%|██████    | 112/184 [07:08<05:13,  4.35s/it]"
     ]
    },
    {
     "name": "stdout",
     "output_type": "stream",
     "text": [
      "Erro: The request failed: Google returned a response with code 429\n",
      "Pausing for 5 seconds and retrying...\n",
      "\u001b[H\u001b[2J"
     ]
    },
    {
     "name": "stderr",
     "output_type": "stream",
     "text": [
      " 62%|██████▎   | 115/184 [07:21<04:33,  3.96s/it]"
     ]
    },
    {
     "name": "stdout",
     "output_type": "stream",
     "text": [
      "Erro: The request failed: Google returned a response with code 429\n",
      "Pausing for 5 seconds and retrying...\n",
      "\u001b[H\u001b[2JErro: The request failed: Google returned a response with code 429\n",
      "Pausing for 5 seconds and retrying...\n",
      "\u001b[H\u001b[2JErro: The request failed: Google returned a response with code 429\n",
      "Pausing for 5 seconds and retrying...\n",
      "\u001b[H\u001b[2JErro: The request failed: Google returned a response with code 429\n",
      "Pausing for 5 seconds and retrying...\n",
      "\u001b[H\u001b[2J"
     ]
    },
    {
     "name": "stderr",
     "output_type": "stream",
     "text": [
      " 64%|██████▍   | 118/184 [07:54<07:15,  6.60s/it]"
     ]
    },
    {
     "name": "stdout",
     "output_type": "stream",
     "text": [
      "Erro: The request failed: Google returned a response with code 429\n",
      "Pausing for 5 seconds and retrying...\n",
      "\u001b[H\u001b[2J"
     ]
    },
    {
     "name": "stderr",
     "output_type": "stream",
     "text": [
      " 67%|██████▋   | 124/184 [08:16<03:26,  3.44s/it]"
     ]
    },
    {
     "name": "stdout",
     "output_type": "stream",
     "text": [
      "Erro: The request failed: Google returned a response with code 429\n",
      "Pausing for 5 seconds and retrying...\n",
      "\u001b[H\u001b[2J"
     ]
    },
    {
     "name": "stderr",
     "output_type": "stream",
     "text": [
      " 68%|██████▊   | 125/184 [08:26<05:06,  5.20s/it]"
     ]
    },
    {
     "name": "stdout",
     "output_type": "stream",
     "text": [
      "Erro: The request failed: Google returned a response with code 429\n",
      "Pausing for 5 seconds and retrying...\n",
      "\u001b[H\u001b[2J"
     ]
    },
    {
     "name": "stderr",
     "output_type": "stream",
     "text": [
      " 70%|██████▉   | 128/184 [08:41<04:24,  4.73s/it]"
     ]
    },
    {
     "name": "stdout",
     "output_type": "stream",
     "text": [
      "Erro: The request failed: Google returned a response with code 429\n",
      "Pausing for 5 seconds and retrying...\n",
      "\u001b[H\u001b[2J"
     ]
    },
    {
     "name": "stderr",
     "output_type": "stream",
     "text": [
      " 70%|███████   | 129/184 [08:51<05:39,  6.17s/it]"
     ]
    },
    {
     "name": "stdout",
     "output_type": "stream",
     "text": [
      "Erro: The request failed: Google returned a response with code 429\n",
      "Pausing for 5 seconds and retrying...\n",
      "\u001b[H\u001b[2J"
     ]
    },
    {
     "name": "stderr",
     "output_type": "stream",
     "text": [
      " 71%|███████   | 130/184 [09:00<06:19,  7.03s/it]"
     ]
    },
    {
     "name": "stdout",
     "output_type": "stream",
     "text": [
      "Erro: The request failed: Google returned a response with code 429\n",
      "Pausing for 5 seconds and retrying...\n",
      "\u001b[H\u001b[2J"
     ]
    },
    {
     "name": "stderr",
     "output_type": "stream",
     "text": [
      " 72%|███████▏  | 132/184 [09:12<05:24,  6.24s/it]"
     ]
    },
    {
     "name": "stdout",
     "output_type": "stream",
     "text": [
      "Erro: The request failed: Google returned a response with code 429\n",
      "Pausing for 5 seconds and retrying...\n",
      "\u001b[H\u001b[2JErro: The request failed: Google returned a response with code 429\n",
      "Pausing for 5 seconds and retrying...\n",
      "\u001b[H\u001b[2J"
     ]
    },
    {
     "name": "stderr",
     "output_type": "stream",
     "text": [
      " 72%|███████▏  | 133/184 [09:28<07:50,  9.22s/it]"
     ]
    },
    {
     "name": "stdout",
     "output_type": "stream",
     "text": [
      "Erro: The request failed: Google returned a response with code 429\n",
      "Pausing for 5 seconds and retrying...\n",
      "\u001b[H\u001b[2J"
     ]
    },
    {
     "name": "stderr",
     "output_type": "stream",
     "text": [
      " 75%|███████▌  | 138/184 [09:48<03:14,  4.22s/it]"
     ]
    },
    {
     "name": "stdout",
     "output_type": "stream",
     "text": [
      "Erro: The request failed: Google returned a response with code 429\n",
      "Pausing for 5 seconds and retrying...\n",
      "\u001b[H\u001b[2J"
     ]
    },
    {
     "name": "stderr",
     "output_type": "stream",
     "text": [
      " 83%|████████▎ | 153/184 [10:35<01:25,  2.75s/it]"
     ]
    },
    {
     "name": "stdout",
     "output_type": "stream",
     "text": [
      "Erro: The request failed: Google returned a response with code 429\n",
      "Pausing for 5 seconds and retrying...\n",
      "\u001b[H\u001b[2J"
     ]
    },
    {
     "name": "stderr",
     "output_type": "stream",
     "text": [
      " 86%|████████▌ | 158/184 [10:55<01:21,  3.12s/it]"
     ]
    },
    {
     "name": "stdout",
     "output_type": "stream",
     "text": [
      "Erro: The request failed: Google returned a response with code 429\n",
      "Pausing for 5 seconds and retrying...\n",
      "\u001b[H\u001b[2J"
     ]
    },
    {
     "name": "stderr",
     "output_type": "stream",
     "text": [
      " 89%|████████▉ | 164/184 [11:18<01:02,  3.14s/it]"
     ]
    },
    {
     "name": "stdout",
     "output_type": "stream",
     "text": [
      "Erro: The request failed: Google returned a response with code 429\n",
      "Pausing for 5 seconds and retrying...\n",
      "\u001b[H\u001b[2J"
     ]
    },
    {
     "name": "stderr",
     "output_type": "stream",
     "text": [
      " 90%|█████████ | 166/184 [11:31<01:19,  4.42s/it]"
     ]
    },
    {
     "name": "stdout",
     "output_type": "stream",
     "text": [
      "Erro: The request failed: Google returned a response with code 429\n",
      "Pausing for 5 seconds and retrying...\n",
      "\u001b[H\u001b[2J"
     ]
    },
    {
     "name": "stderr",
     "output_type": "stream",
     "text": [
      " 92%|█████████▏| 170/184 [11:50<01:00,  4.30s/it]"
     ]
    },
    {
     "name": "stdout",
     "output_type": "stream",
     "text": [
      "Erro: The request failed: Google returned a response with code 429\n",
      "Pausing for 5 seconds and retrying...\n",
      "\u001b[H\u001b[2J"
     ]
    },
    {
     "name": "stderr",
     "output_type": "stream",
     "text": [
      " 97%|█████████▋| 178/184 [12:22<00:20,  3.44s/it]"
     ]
    },
    {
     "name": "stdout",
     "output_type": "stream",
     "text": [
      "Erro: The request failed: Google returned a response with code 429\n",
      "Pausing for 5 seconds and retrying...\n",
      "\u001b[H\u001b[2J"
     ]
    },
    {
     "name": "stderr",
     "output_type": "stream",
     "text": [
      "100%|██████████| 184/184 [12:43<00:00,  4.15s/it]\n"
     ]
    }
   ],
   "source": [
    "import numpy as np\n",
    "\n",
    "\n",
    "# Dividir o DataFrame em 5 partes\n",
    "df_parts = np.array_split(df, 5)\n",
    "\n",
    "for i, part in enumerate(df_parts):\n",
    "    popularities = []\n",
    "    for index, row in tqdm(part.iterrows(), total=part.shape[0]):\n",
    "        search = row['search']\n",
    "        start_date = row['startDate']\n",
    "        end_date = row['endDate']\n",
    "        while True:\n",
    "            try:\n",
    "                popularities.append(getKeywordPop(search, start_date, end_date))\n",
    "                time.sleep(1)\n",
    "                break  # Sai do loop while se a chamada for bem-sucedida\n",
    "            except Exception as e:\n",
    "                print(f\"Erro: {e}\")\n",
    "                print(\"Pausing for 5 seconds and retrying...\")\n",
    "                time.sleep(5)\n",
    "                os.system('clear') or None        \n",
    "    np.save('popularities_part'+str(i+5)+'.npy', popularities)\n",
    "    time.sleep(50)\n",
    "    "
   ]
  },
  {
   "cell_type": "code",
   "execution_count": 158,
   "metadata": {},
   "outputs": [],
   "source": [
    "np.save('nextt_252_popularities.npy', popularities)"
   ]
  },
  {
   "cell_type": "code",
   "execution_count": 12,
   "metadata": {},
   "outputs": [
    {
     "data": {
      "text/plain": [
       "232"
      ]
     },
     "execution_count": 12,
     "metadata": {},
     "output_type": "execute_result"
    }
   ],
   "source": [
    "len(popularities)"
   ]
  },
  {
   "cell_type": "code",
   "execution_count": 13,
   "metadata": {},
   "outputs": [],
   "source": [
    "i = 7\n",
    "np.save('popularities_part'+str(i)+'.npy', popularities)"
   ]
  },
  {
   "cell_type": "code",
   "execution_count": 140,
   "metadata": {},
   "outputs": [
    {
     "name": "stdout",
     "output_type": "stream",
     "text": [
      "Parte 1:\n",
      "                  search  season   startDate     endDate\n",
      "791               Lázaro    2022  2022-08-05  2023-05-28\n",
      "792                Kaiky    2022  2022-08-05  2023-05-28\n",
      "793       Gonzalo Melero    2022  2022-08-05  2023-05-28\n",
      "794        Léo Baptistão    2022  2022-08-05  2023-05-28\n",
      "795         Diego Mariño    2022  2022-08-05  2023-05-28\n",
      "...                  ...     ...         ...         ...\n",
      "1163       Niklas Dorsch    2021  2021-08-05  2022-05-28\n",
      "1164         Suat Serdar    2021  2021-08-05  2022-05-28\n",
      "1165       Marco Richter    2021  2021-08-05  2022-05-28\n",
      "1166  Jurgen Ekkelenkamp    2021  2021-08-05  2022-05-28\n",
      "1167      Ishak Belfodil    2021  2021-08-05  2022-05-28\n",
      "\n",
      "[377 rows x 4 columns]\n",
      "\n",
      "Parte 2:\n",
      "               search  season   startDate     endDate\n",
      "1168    Matheus Cunha    2021  2021-08-05  2022-05-28\n",
      "1169    Matheus Cunha    2021  2021-08-05  2022-05-28\n",
      "1170        Luca Netz    2021  2021-08-05  2022-05-28\n",
      "1171     George Bello    2021  2021-08-05  2022-05-28\n",
      "1172       Robin Hack    2021  2021-08-05  2022-05-28\n",
      "...               ...     ...         ...         ...\n",
      "1540  Jhon Chancellor    2019  2019-08-05  2020-05-28\n",
      "1541   Luca Tremolada    2019  2019-08-05  2020-05-28\n",
      "1542   Bruno Martella    2019  2019-08-05  2020-05-28\n",
      "1543   Nahitan Nández    2019  2019-08-05  2020-05-28\n",
      "1544   Gastón Pereiro    2019  2019-08-05  2020-05-28\n",
      "\n",
      "[377 rows x 4 columns]\n",
      "\n",
      "Parte 3:\n",
      "                   search  season   startDate     endDate\n",
      "1545      Christian Oliva    2019  2019-08-05  2020-05-28\n",
      "1546  Fabrizio Cacciatore    2019  2019-08-05  2020-05-28\n",
      "1547         Erick Pulgar    2019  2019-08-05  2020-05-28\n",
      "1548                Pedro    2019  2019-08-05  2020-05-28\n",
      "1549                Pedro    2019  2019-08-05  2020-05-28\n",
      "...                   ...     ...         ...         ...\n",
      "1917     Francesco Caputo    2022  2022-08-05  2023-05-28\n",
      "1918     Francesco Caputo    2022  2022-08-05  2023-05-28\n",
      "1919    Abdelhamid Sabiri    2022  2022-08-05  2023-05-28\n",
      "1920    Abdelhamid Sabiri    2022  2022-08-05  2023-05-28\n",
      "1921     Mikkel Damsgaard    2022  2022-08-05  2023-05-28\n",
      "\n",
      "[377 rows x 4 columns]\n",
      "\n",
      "Parte 4:\n",
      "                     search  season   startDate     endDate\n",
      "1922       Gianluca Caprari    2022  2022-08-05  2023-05-28\n",
      "1923         Morten Thorsby    2022  2022-08-05  2023-05-28\n",
      "1924            Omar Colley    2022  2022-08-05  2023-05-28\n",
      "1925         Arkadiusz Reca    2022  2022-08-05  2023-05-28\n",
      "1926          Kevin Agudelo    2022  2022-08-05  2023-05-28\n",
      "...                     ...     ...         ...         ...\n",
      "2293         Kasper Dolberg    2019  2019-08-05  2020-05-28\n",
      "2294  Alexis Claude-Maurice    2019  2019-08-05  2020-05-28\n",
      "2295        Hicham Boudaoui    2019  2019-08-05  2020-05-28\n",
      "2296    Allan Saint-Maximin    2019  2019-08-05  2020-05-28\n",
      "2297         Romain Perraud    2019  2019-08-05  2020-05-28\n",
      "\n",
      "[376 rows x 4 columns]\n",
      "\n",
      "Parte 5:\n",
      "                  search  season   startDate     endDate\n",
      "2298    Mickaël Le Bihan    2019  2019-08-05  2020-05-28\n",
      "2299        Abdou Diallo    2019  2019-08-05  2020-05-28\n",
      "2300       Pablo Sarabia    2019  2019-08-05  2020-05-28\n",
      "2301        Keylor Navas    2019  2019-08-05  2020-05-28\n",
      "2302    Giovani Lo Celso    2019  2019-08-05  2020-05-28\n",
      "...                  ...     ...         ...         ...\n",
      "2669       Oliver Zandén    2022  2022-08-05  2023-05-28\n",
      "2670      Bafodé Diakité    2022  2022-08-05  2023-05-28\n",
      "2671     Fernand Mayembo    2022  2022-08-05  2023-05-28\n",
      "2672     Rayan Raveloson    2022  2022-08-05  2023-05-28\n",
      "2673  Gaëtan Charbonnier    2022  2022-08-05  2023-05-28\n",
      "\n",
      "[376 rows x 4 columns]\n",
      "\n"
     ]
    }
   ],
   "source": [
    "import numpy as np\n",
    "\n",
    "\n",
    "   "
   ]
  },
  {
   "cell_type": "code",
   "execution_count": 102,
   "metadata": {},
   "outputs": [
    {
     "data": {
      "image/png": "[encoded data removed]",
      "text/plain": [
       "<Figure size 640x480 with 1 Axes>"
      ]
     },
     "metadata": {},
     "output_type": "display_data"
    }
   ],
   "source": [
    "import matplotlib.pyplot as plt\n",
    "\n",
    "palavras_chave = ['Einstein', 'Cristiano Ronaldo']\n",
    "pytrends.build_payload(palavras_chave, cat=0, timeframe='2017-01-01 2023-07-01', geo='')\n",
    "dados_tendencias = pytrends.interest_over_time()\n",
    "\n",
    "plt.plot(dados_tendencias.index, dados_tendencias['Einstein'])\n",
    "plt.plot(dados_tendencias.index, dados_tendencias['Cristiano Ronaldo'])\n",
    "plt.xlabel('Ano')\n",
    "plt.ylabel('Popularidade')\n",
    "plt.title('Popularidade do termo \"Nikola Tesla\" (2016-2023)')\n",
    "plt.show()"
   ]
  },
  {
   "cell_type": "code",
   "execution_count": 23,
   "metadata": {},
   "outputs": [],
   "source": [
    "array1 = np.load('popularities_part0.npy')"
   ]
  },
  {
   "cell_type": "code",
   "execution_count": 38,
   "metadata": {},
   "outputs": [],
   "source": [
    "array1 = np.load('popularities_part0.npy')\n",
    "array2 =  np.load('popularities_part1.npy')\n",
    "array3 =  np.load('popularities_part2.npy')\n",
    "array4 =  np.load('popularities_part3.npy')\n",
    "array5 =  np.load('popularities_part5.npy')\n",
    "array6 =  np.load('popularities_part6.npy')\n",
    "array7 =  np.load('popularities_part7.npy')\n",
    "array8 =  np.load('popularities_part8.npy')\n",
    "array9 =  np.load('popularities_part9.npy')\n",
    "\n",
    "\n",
    "\n",
    "results = np.concatenate((array1, array2, array3, array4, array5, array6, array7, array8, array9))"
   ]
  },
  {
   "cell_type": "code",
   "execution_count": 39,
   "metadata": {},
   "outputs": [],
   "source": [
    "df['popularity'] = results"
   ]
  },
  {
   "cell_type": "code",
   "execution_count": 48,
   "metadata": {},
   "outputs": [],
   "source": [
    "df.to_csv('data/popularities.csv', index = False)"
   ]
  }
 ],
 "metadata": {
  "kernelspec": {
   "display_name": "env1",
   "language": "python",
   "name": "python3"
  },
  "language_info": {
   "codemirror_mode": {
    "name": "ipython",
    "version": 3
   },
   "file_extension": ".py",
   "mimetype": "text/x-python",
   "name": "python",
   "nbconvert_exporter": "python",
   "pygments_lexer": "ipython3",
   "version": "3.9.16"
  },
  "orig_nbformat": 4
 },
 "nbformat": 4,
 "nbformat_minor": 2
}
