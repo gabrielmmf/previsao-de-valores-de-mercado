{
 "cells": [
  {
   "attachments": {},
   "cell_type": "markdown",
   "metadata": {},
   "source": [
    "# Obtenção da popularidade\n",
    "\n",
    "Nesta parte, deve ser feita uma função que recebe um dataframe com as colunas 'playerName' e 'season', e adiciona uma coluna 'popularity' ou algun nome melhor, que mostra a popularidade de um jogador no período daquela season\n",
    "\n",
    "Usar a biblioteca pytrends:\n",
    "\n",
    "https://pypi.org/project/pytrends/\n",
    "\n",
    "https://konstantinstadler.site/posts/plotting-google-trends-search-terms-in-python/"
   ]
  },
  {
   "cell_type": "code",
   "execution_count": null,
   "metadata": {},
   "outputs": [],
   "source": []
  }
 ],
 "metadata": {
  "kernelspec": {
   "display_name": "env1",
   "language": "python",
   "name": "python3"
  },
  "language_info": {
   "codemirror_mode": {
    "name": "ipython",
    "version": 3
   },
   "file_extension": ".py",
   "mimetype": "text/x-python",
   "name": "python",
   "nbconvert_exporter": "python",
   "pygments_lexer": "ipython3",
   "version": "3.9.16"
  },
  "orig_nbformat": 4
 },
 "nbformat": 4,
 "nbformat_minor": 2
}
